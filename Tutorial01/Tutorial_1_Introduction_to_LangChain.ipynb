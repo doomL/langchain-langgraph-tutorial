{
 "cells": [
  {
   "cell_type": "markdown",
   "metadata": {},
   "source": [
    "# Tutorial 1: Introduction to LangChain\n",
    "\n",
    "Welcome to our first tutorial on LangChain! In this notebook, we'll cover the basics of LangChain and create a simple application using the Groq LLM."
   ]
  },
  {
   "cell_type": "markdown",
   "metadata": {},
   "source": [
    "## 1. What is LangChain?\n",
    "\n",
    "LangChain is a framework for developing applications powered by language models. It provides a set of tools and abstractions that make it easier to build complex LLM-based applications."
   ]
  },
  {
   "cell_type": "markdown",
   "metadata": {},
   "source": [
    "## 2. Installation and Setup\n",
    "\n",
    "First, let's make sure we have the necessary packages installed:"
   ]
  },
  {
   "cell_type": "code",
   "execution_count": null,
   "metadata": {},
   "outputs": [],
   "source": [
    "!pip install langchain groq"
   ]
  },
  {
   "cell_type": "markdown",
   "metadata": {},
   "source": [
    "Now, let's import the required modules and set up our Groq API key:"
   ]
  },
  {
   "cell_type": "code",
   "execution_count": null,
   "metadata": {},
   "outputs": [],
   "source": [
    "import os\n",
    "from langchain.llms import Groq\n",
    "from langchain.prompts import PromptTemplate\n",
    "from langchain.chains import LLMChain\n",
    "\n",
    "# Set your Groq API key\n",
    "os.environ[\"GROQ_API_KEY\"] = \"your-api-key-here\"\n",
    "\n",
    "# Initialize the Groq LLM\n",
    "llm = Groq(model_name=\"llama2-70b-4096\")"
   ]
  },
  {
   "cell_type": "markdown",
   "metadata": {},
   "source": [
    "## 3. Basic Concepts: Chains, Agents, and Memory\n",
    "\n",
    "LangChain introduces several key concepts:\n",
    "\n",
    "- **Chains**: Sequences of operations to be performed with an LLM\n",
    "- **Agents**: Autonomous entities that can use tools and make decisions\n",
    "- **Memory**: Systems for storing and retrieving information across interactions\n",
    "\n",
    "In this tutorial, we'll focus on creating a simple chain."
   ]
  },
  {
   "cell_type": "markdown",
   "metadata": {},
   "source": [
    "## 4. Your First LangChain Application\n",
    "\n",
    "Let's create a simple application that generates a short story based on a given prompt."
   ]
  },
  {
   "cell_type": "code",
   "execution_count": null,
   "metadata": {},
   "outputs": [],
   "source": [
    "# Define a prompt template\n",
    "template = \"\"\"\n",
    "You are a creative writer. Write a short story (about 100 words) based on the following prompt:\n",
    "\n",
    "Prompt: {prompt}\n",
    "\n",
    "Story:\n",
    "\"\"\"\n",
    "\n",
    "prompt = PromptTemplate(template=template, input_variables=[\"prompt\"])\n",
    "\n",
    "# Create a chain\n",
    "story_chain = LLMChain(llm=llm, prompt=prompt)\n",
    "\n",
    "# Generate a story\n",
    "story_prompt = \"A time traveler accidentally changes history\"\n",
    "result = story_chain.run(story_prompt)\n",
    "\n",
    "print(result)"
   ]
  },
  {
   "cell_type": "markdown",
   "metadata": {},
   "source": [
    "Congratulations! You've just created your first LangChain application. This simple example demonstrates how to use a prompt template, create a chain, and generate content using an LLM.\n",
    "\n",
    "In the next tutorial, we'll explore more advanced features of LangChain and dive deeper into working with language models."
   ]
  }
 ],
 "metadata": {
  "kernelspec": {
   "display_name": "Python 3",
   "language": "python",
   "name": "python3"
  },
  "language_info": {
   "codemirror_mode": {
    "name": "ipython",
    "version": 3
   },
   "file_extension": ".py",
   "mimetype": "text/x-python",
   "name": "python",
   "nbconvert_exporter": "python",
   "pygments_lexer": "ipython3",
   "version": "3.8.10"
  }
 },
 "nbformat": 4,
 "nbformat_minor": 4
}