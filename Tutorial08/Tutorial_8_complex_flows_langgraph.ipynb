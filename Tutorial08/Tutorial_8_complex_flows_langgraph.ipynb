{
 "cells": [
  {
   "cell_type": "markdown",
   "metadata": {},
   "source": [
    "# Tutorial 8: Building Complex Flows with LangGraph\n",
    "\n",
    "In this tutorial, we'll explore how to create more complex and sophisticated workflows using LangGraph. We'll build on the concepts introduced in Tutorial 7 and dive into multi-step processes, conditional logic, and error handling."
   ]
  },
  {
   "cell_type": "markdown",
   "metadata": {},
   "source": [
    "## Setup\n",
    "\n",
    "First, let's import the necessary libraries and set up our environment:"
   ]
  },
  {
   "cell_type": "code",
   "execution_count": null,
   "metadata": {},
   "outputs": [],
   "source": [
    "import os\n",
    "from typing import Dict, TypedDict, List\n",
    "from langchain.llms import Groq\n",
    "from langchain.prompts import ChatPromptTemplate\n",
    "from langchain.schema import BaseMessage\n",
    "from langgraph.graph import StateGraph, END\n",
    "\n",
    "# Set up the Groq LLM\n",
    "llm = Groq(api_key=os.environ[\"GROQ_API_KEY\"])\n",
    "\n",
    "# Define our state structure\n",
    "class State(TypedDict):\n",
    "    messages: List[BaseMessage]\n",
    "    current_step: str\n",
    "    task_list: List[str]\n",
    "    error_count: int"
   ]
  },
  {
   "cell_type": "markdown",
   "metadata": {},
   "source": [
    "## 1. Designing multi-step workflows\n",
    "\n",
    "Let's create a multi-step task planning and execution workflow. This workflow will:\n",
    "1. Greet the user and ask for a task\n",
    "2. Break down the task into subtasks\n",
    "3. Execute each subtask\n",
    "4. Provide a summary of the completed task"
   ]
  },
  {
   "cell_type": "code",
   "execution_count": null,
   "metadata": {},
   "outputs": [],
   "source": [
    "# Define our graph\n",
    "workflow = StateGraph(State)\n",
    "\n",
    "# Define our nodes\n",
    "def greet_and_ask(state: State) -> State:\n",
    "    state[\"messages\"].append({\"role\": \"assistant\", \"content\": \"Hello! What task can I help you with today?\"})\n",
    "    state[\"current_step\"] = \"break_down_task\"\n",
    "    return state\n",
    "\n",
    "def break_down_task(state: State) -> State:\n",
    "    task = state[\"messages\"][-1][\"content\"]\n",
    "    prompt = ChatPromptTemplate.from_template(\n",
    "        \"Break down the following task into 3-5 subtasks: {task}\"\n",
    "    )\n",
    "    response = llm(prompt.format_messages(task=task))\n",
    "    subtasks = response.content.split(\"\\n\")\n",
    "    state[\"task_list\"] = subtasks\n",
    "    state[\"messages\"].append({\"role\": \"assistant\", \"content\": f\"I've broken down your task into the following subtasks:\\n{response.content}\"})\n",
    "    state[\"current_step\"] = \"execute_subtask\"\n",
    "    return state\n",
    "\n",
    "def execute_subtask(state: State) -> State:\n",
    "    if state[\"task_list\"]:\n",
    "        current_task = state[\"task_list\"].pop(0)\n",
    "        prompt = ChatPromptTemplate.from_template(\n",
    "            \"Execute the following subtask and provide a brief result: {task}\"\n",
    "        )\n",
    "        response = llm(prompt.format_messages(task=current_task))\n",
    "        state[\"messages\"].append({\"role\": \"assistant\", \"content\": f\"Completed subtask: {current_task}\\nResult: {response.content}\"})\n",
    "        state[\"current_step\"] = \"execute_subtask\" if state[\"task_list\"] else \"summarize\"\n",
    "    else:\n",
    "        state[\"current_step\"] = \"summarize\"\n",
    "    return state\n",
    "\n",
    "def summarize(state: State) -> State:\n",
    "    prompt = ChatPromptTemplate.from_template(\n",
    "        \"Summarize the completed task and its results based on the following conversation: {conversation}\"\n",
    "    )\n",
    "    conversation = \"\\n\".join([f\"{m['role']}: {m['content']}\" for m in state[\"messages\"]])\n",
    "    response = llm(prompt.format_messages(conversation=conversation))\n",
    "    state[\"messages\"].append({\"role\": \"assistant\", \"content\": f\"Task Summary:\\n{response.content}\"})\n",
    "    state[\"current_step\"] = \"end\"\n",
    "    return state\n",
    "\n",
    "# Add nodes to the graph\n",
    "workflow.add_node(\"greet_and_ask\", greet_and_ask)\n",
    "workflow.add_node(\"break_down_task\", break_down_task)\n",
    "workflow.add_node(\"execute_subtask\", execute_subtask)\n",
    "workflow.add_node(\"summarize\", summarize)\n",
    "\n",
    "# Define edges\n",
    "workflow.set_entry_point(\"greet_and_ask\")\n",
    "workflow.add_edge(\"greet_and_ask\", \"break_down_task\")\n",
    "workflow.add_edge(\"break_down_task\", \"execute_subtask\")\n",
    "workflow.add_edge(\"execute_subtask\", \"execute_subtask\")\n",
    "workflow.add_edge(\"execute_subtask\", \"summarize\")\n",
    "workflow.add_edge(\"summarize\", END)"
   ]
  },
  {
   "cell_type": "markdown",
   "metadata": {},
   "source": [
    "## 2. Handling state and transitions\n",
    "\n",
    "In the above workflow, we're using the `current_step` key in our state to manage transitions between nodes. This allows us to create more complex flows with multiple possible paths."
   ]
  },
  {
   "cell_type": "markdown",
   "metadata": {},
   "source": [
    "## 3. Implementing conditional logic in flows\n",
    "\n",
    "Now, let's add some conditional logic to our workflow. We'll implement a check to see if the user wants to add more tasks after the initial task is completed."
   ]
  },
  {
   "cell_type": "code",
   "execution_count": null,
   "metadata": {},
   "outputs": [],
   "source": [
    "def check_for_more_tasks(state: State) -> str:\n",
    "    state[\"messages\"].append({\"role\": \"assistant\", \"content\": \"Would you like to add another task? (yes/no)\"})\n",
    "    return \"get_user_response\"\n",
    "\n",
    "def get_user_response(state: State) -> str:\n",
    "    response = state[\"messages\"][-1][\"content\"].lower()\n",
    "    if response == \"yes\":\n",
    "        return \"greet_and_ask\"\n",
    "    elif response == \"no\":\n",
    "        return END\n",
    "    else:\n",
    "        state[\"messages\"].append({\"role\": \"assistant\", \"content\": \"I didn't understand that. Please answer 'yes' or 'no'.\"})\n",
    "        return \"get_user_response\"\n",
    "\n",
    "# Add new nodes\n",
    "workflow.add_node(\"check_for_more_tasks\", check_for_more_tasks)\n",
    "workflow.add_node(\"get_user_response\", get_user_response)\n",
    "\n",
    "# Update edges\n",
    "workflow.add_edge(\"summarize\", \"check_for_more_tasks\")\n",
    "workflow.add_edge(\"check_for_more_tasks\", \"get_user_response\")\n",
    "workflow.add_edge(\"get_user_response\", \"greet_and_ask\")\n",
    "workflow.add_edge(\"get_user_response\", END)\n",
    "workflow.add_edge(\"get_user_response\", \"get_user_response\")"
   ]
  },
  {
   "cell_type": "markdown",
   "metadata": {},
   "source": [
    "## 4. Error handling and fallback strategies\n",
    "\n",
    "Lastly, let's implement some basic error handling in our workflow. We'll add a counter for errors and implement a fallback strategy if too many errors occur."
   ]
  },
  {
   "cell_type": "code",
   "execution_count": null,
   "metadata": {},
   "outputs": [],
   "source": [
    "def handle_error(state: State) -> str:\n",
    "    state[\"error_count\"] += 1\n",
    "    if state[\"error_count\"] > 3:\n",
    "        state[\"messages\"].append({\"role\": \"assistant\", \"content\": \"I'm having trouble understanding. Let's start over.\"})\n",
    "        state[\"error_count\"] = 0\n",
    "        return \"greet_and_ask\"\n",
    "    else:\n",
    "        state[\"messages\"].append({\"role\": \"assistant\", \"content\": \"I'm sorry, I didn't understand that. Could you please rephrase?\"})\n",
    "        return state[\"current_step\"]\n",
    "\n",
    "# Add error handling node\n",
    "workflow.add_node(\"handle_error\", handle_error)\n",
    "\n",
    "# Update edges to include error handling\n",
    "for node in [\"break_down_task\", \"execute_subtask\", \"summarize\", \"get_user_response\"]:\n",
    "    workflow.add_edge(node, \"handle_error\")\n",
    "workflow.add_edge(\"handle_error\", \"greet_and_ask\")\n",
    "for node in [\"break_down_task\", \"execute_subtask\", \"summarize\", \"get_user_response\"]:\n",
    "    workflow.add_edge(\"handle_error\", node)\n",
    "\n",
    "# Compile the graph\n",
    "app = workflow.compile()"
   ]
  },
  {
   "cell_type": "markdown",
   "metadata": {},
   "source": [
    "Now, let's test our complex LangGraph flow:"
   ]
  },
  {
   "cell_type": "code",
   "execution_count": null,
   "metadata": {},
   "outputs": [],
   "source": [
    "# Initialize the state\n",
    "initial_state = {\"messages\": [], \"current_step\": \"\", \"task_list\": [], \"error_count\": 0}\n",
    "\n",
    "# Run the graph\n",
    "for output in app.stream(initial_state):\n",
    "    if \"messages\" in output and output[\"messages\"]:\n",
    "        last_message = output[\"messages\"][-1]\n",
    "        if last_message[\"role\"] == \"assistant\":\n",
    "            print(f\"Assistant: {last_message['content']}\")\n",
    "        elif last_message[\"role\"] == \"human\":\n",
    "            print(f\"Human: {last_message['content']}\")\n",
    "    \n",
    "    if output[\"current_step\"] in [\"break_down_task\", \"get_user_response\"]:\n",
    "        user_input = input(\"Your response: \")\n",
    "        output[\"messages\"].append({\"role\": \"human\", \"content\": user_input})\n",
    "\n",
    "print(\"Workflow completed.\")"
   ]
  },
  {
   "cell_type": "markdown",
   "metadata": {},
   "source": [
    "## Conclusion\n",
    "\n",
    "In this tutorial, we've explored how to build complex flows with LangGraph, including:\n"
   ]
}
    ]
}