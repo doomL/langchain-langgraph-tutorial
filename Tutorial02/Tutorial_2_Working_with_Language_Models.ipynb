{
 "cells": [
  {
   "cell_type": "markdown",
   "metadata": {},
   "source": [
    "# Tutorial 2: Working with Language Models in LangChain\n",
    "\n",
    "In this tutorial, we'll explore how to work with language models in LangChain, focusing on the Groq LLM. We'll cover connecting to the model, creating prompt templates, building chains, and handling responses."
   ]
  },
  {
   "cell_type": "markdown",
   "metadata": {},
   "source": [
    "## 1. Connecting to Language Models\n",
    "\n",
    "First, let's set up our environment and connect to the Groq LLM:"
   ]
  },
  {
   "cell_type": "code",
   "execution_count": 3,
   "metadata": {},
   "outputs": [
    {
     "name": "stderr",
     "output_type": "stream",
     "text": [
      "c:\\Users\\Domenico\\langchain-langgraph-tutorial\\.venv\\lib\\site-packages\\langsmith\\client.py:354: LangSmithMissingAPIKeyWarning: API key must be provided when using hosted LangSmith API\n",
      "  warnings.warn(\n"
     ]
    },
    {
     "name": "stdout",
     "output_type": "stream",
     "text": [
      "content='Hello. How can I assist you today?' additional_kwargs={} response_metadata={'token_usage': {'completion_tokens': 10, 'prompt_tokens': 39, 'total_tokens': 49, 'completion_time': 0.040080597, 'prompt_time': 0.009772015, 'queue_time': 0.005013055000000001, 'total_time': 0.049852612}, 'model_name': 'llama-3.1-70b-versatile', 'system_fingerprint': 'fp_9260b4bb2e', 'finish_reason': 'stop', 'logprobs': None} id='run-8e089f13-0853-4f1b-92c5-e0c417fa2b9f-0' usage_metadata={'input_tokens': 39, 'output_tokens': 10, 'total_tokens': 49}\n"
     ]
    },
    {
     "name": "stderr",
     "output_type": "stream",
     "text": [
      "Failed to multipart ingest runs: langsmith.utils.LangSmithAuthError: Authentication failed for https://api.smith.langchain.com/runs/multipart. HTTPError('401 Client Error: Unauthorized for url: https://api.smith.langchain.com/runs/multipart', '{\"detail\":\"Invalid token\"}')trace=8e089f13-0853-4f1b-92c5-e0c417fa2b9f,id=8e089f13-0853-4f1b-92c5-e0c417fa2b9f\n",
      "Failed to multipart ingest runs: langsmith.utils.LangSmithAuthError: Authentication failed for https://api.smith.langchain.com/runs/multipart. HTTPError('401 Client Error: Unauthorized for url: https://api.smith.langchain.com/runs/multipart', '{\"detail\":\"Invalid token\"}')trace=b567e232-f97e-4a34-8280-f0d552d34e6f,id=b567e232-f97e-4a34-8280-f0d552d34e6f; trace=b567e232-f97e-4a34-8280-f0d552d34e6f,id=10845485-07c1-498f-83db-fc09dc380c85; trace=b567e232-f97e-4a34-8280-f0d552d34e6f,id=2383a215-eea8-48b2-b3f3-07ddf2d2b41c\n",
      "Failed to multipart ingest runs: langsmith.utils.LangSmithAuthError: Authentication failed for https://api.smith.langchain.com/runs/multipart. HTTPError('401 Client Error: Unauthorized for url: https://api.smith.langchain.com/runs/multipart', '{\"detail\":\"Invalid token\"}')trace=b567e232-f97e-4a34-8280-f0d552d34e6f,id=b567e232-f97e-4a34-8280-f0d552d34e6f; trace=b567e232-f97e-4a34-8280-f0d552d34e6f,id=2383a215-eea8-48b2-b3f3-07ddf2d2b41c\n",
      "Failed to multipart ingest runs: langsmith.utils.LangSmithAuthError: Authentication failed for https://api.smith.langchain.com/runs/multipart. HTTPError('401 Client Error: Unauthorized for url: https://api.smith.langchain.com/runs/multipart', '{\"detail\":\"Invalid token\"}')trace=5c6bffe2-5013-49d0-bc1d-f2d0032b1c27,id=5c6bffe2-5013-49d0-bc1d-f2d0032b1c27\n",
      "Failed to multipart ingest runs: langsmith.utils.LangSmithAuthError: Authentication failed for https://api.smith.langchain.com/runs/multipart. HTTPError('401 Client Error: Unauthorized for url: https://api.smith.langchain.com/runs/multipart', '{\"detail\":\"Invalid token\"}')trace=b0f9dc80-9acf-4076-94ad-27fec4566bf0,id=b0f9dc80-9acf-4076-94ad-27fec4566bf0; trace=b0f9dc80-9acf-4076-94ad-27fec4566bf0,id=143376b8-a27d-42e5-a7ca-80d7f65f8f02; trace=b0f9dc80-9acf-4076-94ad-27fec4566bf0,id=c8c51cfb-1e18-4191-b467-47574c703f2b; trace=5c6bffe2-5013-49d0-bc1d-f2d0032b1c27,id=5c6bffe2-5013-49d0-bc1d-f2d0032b1c27\n",
      "Failed to multipart ingest runs: langsmith.utils.LangSmithAuthError: Authentication failed for https://api.smith.langchain.com/runs/multipart. HTTPError('401 Client Error: Unauthorized for url: https://api.smith.langchain.com/runs/multipart', '{\"detail\":\"Invalid token\"}')trace=b0f9dc80-9acf-4076-94ad-27fec4566bf0,id=b0f9dc80-9acf-4076-94ad-27fec4566bf0; trace=b0f9dc80-9acf-4076-94ad-27fec4566bf0,id=c8c51cfb-1e18-4191-b467-47574c703f2b\n",
      "Failed to multipart ingest runs: langsmith.utils.LangSmithAuthError: Authentication failed for https://api.smith.langchain.com/runs/multipart. HTTPError('401 Client Error: Unauthorized for url: https://api.smith.langchain.com/runs/multipart', '{\"detail\":\"Invalid token\"}')trace=ed318696-4ef6-4736-a421-b0a053d2c987,id=ed318696-4ef6-4736-a421-b0a053d2c987; trace=ed318696-4ef6-4736-a421-b0a053d2c987,id=550328cf-a95a-47ef-8b8b-9a55d98fcbd9; trace=ed318696-4ef6-4736-a421-b0a053d2c987,id=370535c4-c320-44f4-ac59-f1c873a2079d\n",
      "Failed to multipart ingest runs: langsmith.utils.LangSmithAuthError: Authentication failed for https://api.smith.langchain.com/runs/multipart. HTTPError('401 Client Error: Unauthorized for url: https://api.smith.langchain.com/runs/multipart', '{\"detail\":\"Invalid token\"}')trace=ed318696-4ef6-4736-a421-b0a053d2c987,id=ed318696-4ef6-4736-a421-b0a053d2c987; trace=ed318696-4ef6-4736-a421-b0a053d2c987,id=370535c4-c320-44f4-ac59-f1c873a2079d\n",
      "Failed to multipart ingest runs: langsmith.utils.LangSmithAuthError: Authentication failed for https://api.smith.langchain.com/runs/multipart. HTTPError('401 Client Error: Unauthorized for url: https://api.smith.langchain.com/runs/multipart', '{\"detail\":\"Invalid token\"}')trace=9750d9fe-26e2-4988-976e-a25f67597eec,id=9750d9fe-26e2-4988-976e-a25f67597eec; trace=9750d9fe-26e2-4988-976e-a25f67597eec,id=7b83415d-3240-4a43-a548-fdd0ef038e07; trace=9750d9fe-26e2-4988-976e-a25f67597eec,id=39d94a7f-7a80-455a-9b32-0812ce88baba\n",
      "Failed to multipart ingest runs: langsmith.utils.LangSmithAuthError: Authentication failed for https://api.smith.langchain.com/runs/multipart. HTTPError('401 Client Error: Unauthorized for url: https://api.smith.langchain.com/runs/multipart', '{\"detail\":\"Invalid token\"}')trace=9750d9fe-26e2-4988-976e-a25f67597eec,id=91e5d2af-8455-4f6c-9b66-9959751a76e7; trace=9750d9fe-26e2-4988-976e-a25f67597eec,id=9750d9fe-26e2-4988-976e-a25f67597eec; trace=9750d9fe-26e2-4988-976e-a25f67597eec,id=39d94a7f-7a80-455a-9b32-0812ce88baba\n",
      "Failed to multipart ingest runs: langsmith.utils.LangSmithAuthError: Authentication failed for https://api.smith.langchain.com/runs/multipart. HTTPError('401 Client Error: Unauthorized for url: https://api.smith.langchain.com/runs/multipart', '{\"detail\":\"Invalid token\"}')trace=86c1426a-8972-4d35-bfec-509f80817d1b,id=86c1426a-8972-4d35-bfec-509f80817d1b; trace=86c1426a-8972-4d35-bfec-509f80817d1b,id=3f3db9e5-d88a-4470-b538-e375abfebe8c; trace=86c1426a-8972-4d35-bfec-509f80817d1b,id=f80af7d3-0dc2-45cb-bdf3-8e88e032a5ec\n",
      "Failed to multipart ingest runs: langsmith.utils.LangSmithAuthError: Authentication failed for https://api.smith.langchain.com/runs/multipart. HTTPError('401 Client Error: Unauthorized for url: https://api.smith.langchain.com/runs/multipart', '{\"detail\":\"Invalid token\"}')trace=86c1426a-8972-4d35-bfec-509f80817d1b,id=9d0b8ab6-6630-4de2-8497-4443811a3ddb; trace=86c1426a-8972-4d35-bfec-509f80817d1b,id=86c1426a-8972-4d35-bfec-509f80817d1b; trace=86c1426a-8972-4d35-bfec-509f80817d1b,id=f80af7d3-0dc2-45cb-bdf3-8e88e032a5ec\n",
      "Failed to multipart ingest runs: langsmith.utils.LangSmithAuthError: Authentication failed for https://api.smith.langchain.com/runs/multipart. HTTPError('401 Client Error: Unauthorized for url: https://api.smith.langchain.com/runs/multipart', '{\"detail\":\"Invalid token\"}')trace=d561d087-4318-411f-ab9d-d60f89fba439,id=d561d087-4318-411f-ab9d-d60f89fba439; trace=d561d087-4318-411f-ab9d-d60f89fba439,id=b7b35cdb-9d94-4cd5-bd6c-61ac5b01f07e; trace=d561d087-4318-411f-ab9d-d60f89fba439,id=cd6f2603-f6b8-4db2-85fe-5404fa957c2d\n",
      "Failed to multipart ingest runs: langsmith.utils.LangSmithAuthError: Authentication failed for https://api.smith.langchain.com/runs/multipart. HTTPError('401 Client Error: Unauthorized for url: https://api.smith.langchain.com/runs/multipart', '{\"detail\":\"Invalid token\"}')trace=d561d087-4318-411f-ab9d-d60f89fba439,id=ef49df2c-8a3b-4340-8813-632ed5909025; trace=d561d087-4318-411f-ab9d-d60f89fba439,id=d561d087-4318-411f-ab9d-d60f89fba439; trace=d561d087-4318-411f-ab9d-d60f89fba439,id=cd6f2603-f6b8-4db2-85fe-5404fa957c2d\n",
      "Failed to multipart ingest runs: langsmith.utils.LangSmithAuthError: Authentication failed for https://api.smith.langchain.com/runs/multipart. HTTPError('401 Client Error: Unauthorized for url: https://api.smith.langchain.com/runs/multipart', '{\"detail\":\"Invalid token\"}')trace=44b48d75-c8b6-468a-a1cf-975ea54f02b1,id=44b48d75-c8b6-468a-a1cf-975ea54f02b1; trace=44b48d75-c8b6-468a-a1cf-975ea54f02b1,id=0bbe7a51-3b04-4dd9-9bb2-045dbb30278f\n",
      "Failed to multipart ingest runs: langsmith.utils.LangSmithAuthError: Authentication failed for https://api.smith.langchain.com/runs/multipart. HTTPError('401 Client Error: Unauthorized for url: https://api.smith.langchain.com/runs/multipart', '{\"detail\":\"Invalid token\"}')trace=14367e57-9592-4359-9391-2eb58f734073,id=14367e57-9592-4359-9391-2eb58f734073; trace=14367e57-9592-4359-9391-2eb58f734073,id=75033ced-90d9-43d6-9349-0621ad16e475; trace=44b48d75-c8b6-468a-a1cf-975ea54f02b1,id=44b48d75-c8b6-468a-a1cf-975ea54f02b1; trace=44b48d75-c8b6-468a-a1cf-975ea54f02b1,id=0bbe7a51-3b04-4dd9-9bb2-045dbb30278f\n",
      "Failed to multipart ingest runs: langsmith.utils.LangSmithAuthError: Authentication failed for https://api.smith.langchain.com/runs/multipart. HTTPError('401 Client Error: Unauthorized for url: https://api.smith.langchain.com/runs/multipart', '{\"detail\":\"Invalid token\"}')trace=f18f34b0-7baf-46de-a741-f19f1b06c102,id=f18f34b0-7baf-46de-a741-f19f1b06c102; trace=f18f34b0-7baf-46de-a741-f19f1b06c102,id=83c7a6b8-eed0-4bf2-b474-051235613f20; trace=14367e57-9592-4359-9391-2eb58f734073,id=14367e57-9592-4359-9391-2eb58f734073; trace=14367e57-9592-4359-9391-2eb58f734073,id=75033ced-90d9-43d6-9349-0621ad16e475\n",
      "Failed to multipart ingest runs: langsmith.utils.LangSmithAuthError: Authentication failed for https://api.smith.langchain.com/runs/multipart. HTTPError('401 Client Error: Unauthorized for url: https://api.smith.langchain.com/runs/multipart', '{\"detail\":\"Invalid token\"}')trace=f18f34b0-7baf-46de-a741-f19f1b06c102,id=f18f34b0-7baf-46de-a741-f19f1b06c102; trace=f18f34b0-7baf-46de-a741-f19f1b06c102,id=83c7a6b8-eed0-4bf2-b474-051235613f20\n",
      "Failed to multipart ingest runs: langsmith.utils.LangSmithAuthError: Authentication failed for https://api.smith.langchain.com/runs/multipart. HTTPError('401 Client Error: Unauthorized for url: https://api.smith.langchain.com/runs/multipart', '{\"detail\":\"Invalid token\"}')trace=dd57bb4c-96da-4a78-b54b-83783d940f33,id=dd57bb4c-96da-4a78-b54b-83783d940f33; trace=dd57bb4c-96da-4a78-b54b-83783d940f33,id=2943e268-b70d-4e8c-ba2d-69a5707b6761; trace=dd57bb4c-96da-4a78-b54b-83783d940f33,id=f5e39a28-2f45-4e78-b7eb-d8f5f66c995b\n",
      "Failed to multipart ingest runs: langsmith.utils.LangSmithAuthError: Authentication failed for https://api.smith.langchain.com/runs/multipart. HTTPError('401 Client Error: Unauthorized for url: https://api.smith.langchain.com/runs/multipart', '{\"detail\":\"Invalid token\"}')trace=7c1e3712-be43-4de0-a49f-32243b629b89,id=7c1e3712-be43-4de0-a49f-32243b629b89; trace=7c1e3712-be43-4de0-a49f-32243b629b89,id=bb403b27-4cad-45b9-9ad2-51f2b312ce45; trace=7c1e3712-be43-4de0-a49f-32243b629b89,id=b9bbe403-24f7-43d0-8c7f-843d0208fc1d; trace=9486f765-74eb-4606-b6b3-b90c515a16ff,id=9486f765-74eb-4606-b6b3-b90c515a16ff; trace=9486f765-74eb-4606-b6b3-b90c515a16ff,id=e1256254-18f6-47fb-a1dc-bf1befc466a2; trace=9486f765-74eb-4606-b6b3-b90c515a16ff,id=b24b1464-6f9f-47b7-b93e-4966c6572020; trace=dd57bb4c-96da-4a78-b54b-83783d940f33,id=dd57bb4c-96da-4a78-b54b-83783d940f33; trace=dd57bb4c-96da-4a78-b54b-83783d940f33,id=f5e39a28-2f45-4e78-b7eb-d8f5f66c995b\n",
      "Failed to multipart ingest runs: langsmith.utils.LangSmithAuthError: Authentication failed for https://api.smith.langchain.com/runs/multipart. HTTPError('401 Client Error: Unauthorized for url: https://api.smith.langchain.com/runs/multipart', '{\"detail\":\"Invalid token\"}')trace=39a8bee4-2439-4ec6-8552-3263b0ba0131,id=39a8bee4-2439-4ec6-8552-3263b0ba0131; trace=39a8bee4-2439-4ec6-8552-3263b0ba0131,id=dff5c2ea-d5d7-4b0d-a4b1-42eb321965fb; trace=39a8bee4-2439-4ec6-8552-3263b0ba0131,id=b4eae129-43ee-4198-9769-a18a28541690\n",
      "Failed to multipart ingest runs: langsmith.utils.LangSmithAuthError: Authentication failed for https://api.smith.langchain.com/runs/multipart. HTTPError('401 Client Error: Unauthorized for url: https://api.smith.langchain.com/runs/multipart', '{\"detail\":\"Invalid token\"}')trace=753af538-f1c1-483c-850d-946874c1f7e1,id=753af538-f1c1-483c-850d-946874c1f7e1; trace=753af538-f1c1-483c-850d-946874c1f7e1,id=26ca596f-14fa-415c-8d93-cc7bb12ff2d0; trace=753af538-f1c1-483c-850d-946874c1f7e1,id=27015293-5e56-4564-b690-aa1fc289e587; trace=39a8bee4-2439-4ec6-8552-3263b0ba0131,id=39a8bee4-2439-4ec6-8552-3263b0ba0131; trace=39a8bee4-2439-4ec6-8552-3263b0ba0131,id=b4eae129-43ee-4198-9769-a18a28541690\n",
      "Failed to multipart ingest runs: langsmith.utils.LangSmithAuthError: Authentication failed for https://api.smith.langchain.com/runs/multipart. HTTPError('401 Client Error: Unauthorized for url: https://api.smith.langchain.com/runs/multipart', '{\"detail\":\"Invalid token\"}')trace=f6e85897-2cd0-4534-a3ca-d256da31829b,id=f6e85897-2cd0-4534-a3ca-d256da31829b; trace=f6e85897-2cd0-4534-a3ca-d256da31829b,id=56fb864e-5deb-43bb-b642-bcc9498e79ef; trace=f6e85897-2cd0-4534-a3ca-d256da31829b,id=db4e1035-f370-46a2-8565-5c7899735c3c; trace=753af538-f1c1-483c-850d-946874c1f7e1,id=753af538-f1c1-483c-850d-946874c1f7e1; trace=753af538-f1c1-483c-850d-946874c1f7e1,id=27015293-5e56-4564-b690-aa1fc289e587\n",
      "Failed to multipart ingest runs: langsmith.utils.LangSmithAuthError: Authentication failed for https://api.smith.langchain.com/runs/multipart. HTTPError('401 Client Error: Unauthorized for url: https://api.smith.langchain.com/runs/multipart', '{\"detail\":\"Invalid token\"}')trace=f6e85897-2cd0-4534-a3ca-d256da31829b,id=f6e85897-2cd0-4534-a3ca-d256da31829b; trace=f6e85897-2cd0-4534-a3ca-d256da31829b,id=db4e1035-f370-46a2-8565-5c7899735c3c\n",
      "Failed to multipart ingest runs: langsmith.utils.LangSmithAuthError: Authentication failed for https://api.smith.langchain.com/runs/multipart. HTTPError('401 Client Error: Unauthorized for url: https://api.smith.langchain.com/runs/multipart', '{\"detail\":\"Invalid token\"}')trace=90e79801-295e-4372-a8e8-d1a729d6fa13,id=90e79801-295e-4372-a8e8-d1a729d6fa13; trace=90e79801-295e-4372-a8e8-d1a729d6fa13,id=a384af08-29c3-46f0-b22c-d9deffc7158d; trace=90e79801-295e-4372-a8e8-d1a729d6fa13,id=6036328c-f091-4eb2-9f3f-59e6c1dff053\n",
      "Failed to multipart ingest runs: langsmith.utils.LangSmithAuthError: Authentication failed for https://api.smith.langchain.com/runs/multipart. HTTPError('401 Client Error: Unauthorized for url: https://api.smith.langchain.com/runs/multipart', '{\"detail\":\"Invalid token\"}')trace=c16e1109-900f-4431-9d39-3d98bf092a90,id=c16e1109-900f-4431-9d39-3d98bf092a90; trace=c16e1109-900f-4431-9d39-3d98bf092a90,id=ffae6510-a386-455d-8d31-c82477cbc8df; trace=c16e1109-900f-4431-9d39-3d98bf092a90,id=ba580180-8964-4380-b849-c651a6d81784; trace=90e79801-295e-4372-a8e8-d1a729d6fa13,id=90e79801-295e-4372-a8e8-d1a729d6fa13; trace=90e79801-295e-4372-a8e8-d1a729d6fa13,id=6036328c-f091-4eb2-9f3f-59e6c1dff053\n",
      "Failed to multipart ingest runs: langsmith.utils.LangSmithAuthError: Authentication failed for https://api.smith.langchain.com/runs/multipart. HTTPError('401 Client Error: Unauthorized for url: https://api.smith.langchain.com/runs/multipart', '{\"detail\":\"Invalid token\"}')trace=1bf0d9b4-9785-406a-b643-929b41ddb5fd,id=1bf0d9b4-9785-406a-b643-929b41ddb5fd; trace=1bf0d9b4-9785-406a-b643-929b41ddb5fd,id=7bad215b-4e97-4b8f-b16c-6e88afc06cdc; trace=1bf0d9b4-9785-406a-b643-929b41ddb5fd,id=8c4915f5-a971-42d5-a2ca-75cd489c2216; trace=c16e1109-900f-4431-9d39-3d98bf092a90,id=c16e1109-900f-4431-9d39-3d98bf092a90; trace=c16e1109-900f-4431-9d39-3d98bf092a90,id=ba580180-8964-4380-b849-c651a6d81784\n",
      "Failed to multipart ingest runs: langsmith.utils.LangSmithAuthError: Authentication failed for https://api.smith.langchain.com/runs/multipart. HTTPError('401 Client Error: Unauthorized for url: https://api.smith.langchain.com/runs/multipart', '{\"detail\":\"Invalid token\"}')trace=1bf0d9b4-9785-406a-b643-929b41ddb5fd,id=1bf0d9b4-9785-406a-b643-929b41ddb5fd; trace=1bf0d9b4-9785-406a-b643-929b41ddb5fd,id=8c4915f5-a971-42d5-a2ca-75cd489c2216\n",
      "Failed to multipart ingest runs: langsmith.utils.LangSmithAuthError: Authentication failed for https://api.smith.langchain.com/runs/multipart. HTTPError('401 Client Error: Unauthorized for url: https://api.smith.langchain.com/runs/multipart', '{\"detail\":\"Invalid token\"}')trace=474ed48b-14e6-429d-8a5f-7c9a740e151b,id=474ed48b-14e6-429d-8a5f-7c9a740e151b; trace=474ed48b-14e6-429d-8a5f-7c9a740e151b,id=8694fec3-fded-4398-95ee-3179bbb3b2d8; trace=474ed48b-14e6-429d-8a5f-7c9a740e151b,id=9ab3ffd8-5a8f-4856-9763-1d839eed735b\n",
      "Failed to multipart ingest runs: langsmith.utils.LangSmithAuthError: Authentication failed for https://api.smith.langchain.com/runs/multipart. HTTPError('401 Client Error: Unauthorized for url: https://api.smith.langchain.com/runs/multipart', '{\"detail\":\"Invalid token\"}')trace=ee0f64e7-5c6d-4550-bfa8-f0a5428af38b,id=ee0f64e7-5c6d-4550-bfa8-f0a5428af38b; trace=ee0f64e7-5c6d-4550-bfa8-f0a5428af38b,id=fd9f4b4e-b325-4267-8cfa-2e3ae80a71db; trace=ee0f64e7-5c6d-4550-bfa8-f0a5428af38b,id=f1b1f978-0cc4-4466-b1b7-d263fa4aa556; trace=474ed48b-14e6-429d-8a5f-7c9a740e151b,id=474ed48b-14e6-429d-8a5f-7c9a740e151b; trace=474ed48b-14e6-429d-8a5f-7c9a740e151b,id=9ab3ffd8-5a8f-4856-9763-1d839eed735b\n",
      "Failed to multipart ingest runs: langsmith.utils.LangSmithAuthError: Authentication failed for https://api.smith.langchain.com/runs/multipart. HTTPError('401 Client Error: Unauthorized for url: https://api.smith.langchain.com/runs/multipart', '{\"detail\":\"Invalid token\"}')trace=9a3b3ef6-8248-47d6-93be-8a9c502c01d9,id=9a3b3ef6-8248-47d6-93be-8a9c502c01d9; trace=9a3b3ef6-8248-47d6-93be-8a9c502c01d9,id=3960d319-9701-451a-a6dc-05fc32ac8d40; trace=9a3b3ef6-8248-47d6-93be-8a9c502c01d9,id=ad3afa48-2bc5-4c4d-a3ef-a53cb420e3ad; trace=ee0f64e7-5c6d-4550-bfa8-f0a5428af38b,id=ee0f64e7-5c6d-4550-bfa8-f0a5428af38b; trace=ee0f64e7-5c6d-4550-bfa8-f0a5428af38b,id=f1b1f978-0cc4-4466-b1b7-d263fa4aa556\n",
      "Failed to multipart ingest runs: langsmith.utils.LangSmithAuthError: Authentication failed for https://api.smith.langchain.com/runs/multipart. HTTPError('401 Client Error: Unauthorized for url: https://api.smith.langchain.com/runs/multipart', '{\"detail\":\"Invalid token\"}')trace=9a3b3ef6-8248-47d6-93be-8a9c502c01d9,id=9a3b3ef6-8248-47d6-93be-8a9c502c01d9; trace=9a3b3ef6-8248-47d6-93be-8a9c502c01d9,id=ad3afa48-2bc5-4c4d-a3ef-a53cb420e3ad\n"
     ]
    }
   ],
   "source": [
    "import os\n",
    "from langchain_groq import ChatGroq\n",
    "from langchain.prompts import PromptTemplate\n",
    "from langchain.chains import LLMChain\n",
    "from dotenv import load_dotenv\n",
    "\n",
    "load_dotenv()\n",
    "\n",
    "# Initialize the Groq LLM\n",
    "llm = ChatGroq(\n",
    "        model_name=\"llama-3.1-70b-versatile\",\n",
    "        temperature=0.1,\n",
    "        model_kwargs={\"top_p\": 0.2, \"seed\": 1337}\n",
    "    )\n",
    "\n",
    "# Test the connection\n",
    "response = llm.invoke(\"Hello, world!\")\n",
    "print(response)"
   ]
  },
  {
   "cell_type": "markdown",
   "metadata": {},
   "source": [
    "## 2. Creating Prompt Templates\n",
    "\n",
    "Prompt templates allow us to create reusable prompts with input variables:"
   ]
  },
  {
   "cell_type": "code",
   "execution_count": 4,
   "metadata": {},
   "outputs": [
    {
     "name": "stdout",
     "output_type": "stream",
     "text": [
      "Answer the following question:\n",
      "You answers in the English language.\n",
      "Question: What is the capital of France?\n",
      "Answer: Let's approach this step-by-step:\n"
     ]
    }
   ],
   "source": [
    "# Define a simple prompt template\n",
    "template = \"\"\"Answer the following question:\n",
    "You answers in the {language} language.\n",
    "Question: {question}\n",
    "Answer: Let's approach this step-by-step:\"\"\"\n",
    "\n",
    "\n",
    "prompt = PromptTemplate(template=template, input_variables=[\"question\",\"language\"])\n",
    "\n",
    "# Use the prompt template\n",
    "question = \"What is the capital of France?\"\n",
    "formatted_prompt = prompt.format(question=question,language=\"English\")\n",
    "print(formatted_prompt)"
   ]
  },
  {
   "cell_type": "markdown",
   "metadata": {},
   "source": [
    "## 3. Building Simple Prompt Chains\n",
    "\n",
    "Now, let's create a chain that combines our prompt template with the language model:"
   ]
  },
  {
   "cell_type": "code",
   "execution_count": 5,
   "metadata": {},
   "outputs": [
    {
     "name": "stdout",
     "output_type": "stream",
     "text": [
      "Approchons cela étape par étape :\n",
      "\n",
      "La vitesse de la lumière est une constante physique fondamentale qui représente la vitesse à laquelle la lumière se propage dans le vide. Elle est notée c et est exprimée en mètres par seconde (m/s).\n",
      "\n",
      "La vitesse de la lumière est de 299 792 458 mètres par seconde. Cette valeur a été déterminée avec une grande précision grâce à des expériences et des mesures précises.\n",
      "\n",
      "Il est important de noter que la vitesse de la lumière est une constante universelle, ce qui signifie qu'elle est la même partout dans l'univers et qu'elle ne dépend pas de la vitesse de l'observateur ou de la source de lumière.\n"
     ]
    }
   ],
   "source": [
    "# Create a chain\n",
    "chain = prompt | llm\n",
    "\n",
    "# Run the chain\n",
    "result = chain.invoke({\"question\":\"What is the speed of light?\",\"language\":\"French\"})\n",
    "print(result.content)"
   ]
  },
  {
   "cell_type": "markdown",
   "metadata": {},
   "source": [
    "## 4. Handling Model Responses\n",
    "\n",
    "Let's explore different ways to handle and process model responses:"
   ]
  },
  {
   "cell_type": "code",
   "execution_count": 6,
   "metadata": {},
   "outputs": [
    {
     "name": "stdout",
     "output_type": "stream",
     "text": [
      "Raw response: content='Here are three prime numbers: \\n\\n1. 7\\n2. 11\\n3. 13' additional_kwargs={} response_metadata={'token_usage': {'completion_tokens': 22, 'prompt_tokens': 40, 'total_tokens': 62, 'completion_time': 0.088, 'prompt_time': 0.009554175, 'queue_time': 0.004955076000000001, 'total_time': 0.097554175}, 'model_name': 'llama-3.1-70b-versatile', 'system_fingerprint': 'fp_9260b4bb2e', 'finish_reason': 'stop', 'logprobs': None} id='run-5c6bffe2-5013-49d0-bc1d-f2d0032b1c27-0' usage_metadata={'input_tokens': 40, 'output_tokens': 22, 'total_tokens': 62}\n",
      "\n",
      "Chain response: Pour commencer, voici quelques noms d'arbres courants en français :\n",
      "\n",
      "1. Le chêne (Oak)\n",
      "2. Le sapin (Fir)\n",
      "3. Le pin (Pine)\n",
      "4. Le cèdre (Cedar)\n",
      "5. L'érable (Maple)\n",
      "6. Le noyer (Walnut)\n",
      "7. Le châtaignier (Chestnut)\n",
      "8. Le peuplier (Poplar)\n",
      "9. Le saule (Willow)\n",
      "10. Le hêtre (Beech)\n",
      "\n",
      "Il existe de nombreux autres noms d'arbres en français, mais voici quelques-uns des plus courants. Si vous avez des questions spécifiques ou si vous souhaitez en savoir plus, n'hésitez pas à demander !\n"
     ]
    }
   ],
   "source": [
    "# Get the raw response\n",
    "raw_response = llm.invoke(\"List three prime numbers.\")\n",
    "print(\"Raw response:\", raw_response)\n",
    "\n",
    "# Using the chain with a dictionary input\n",
    "chain_response = chain.invoke({\"question\": \"tree Names\",\"language\": \"French\"})\n",
    "print(\"\\nChain response:\", chain_response.content)"
   ]
  },
  {
   "cell_type": "code",
   "execution_count": 10,
   "metadata": {},
   "outputs": [
    {
     "name": "stdout",
     "output_type": "stream",
     "text": [
      "<class 'list'>\n",
      "\n",
      "Parsed list: ['red', 'orange', 'yellow', 'green', 'blue', 'indigo', 'violet', 'black', 'white', 'gray', 'brown', 'pink', 'purple', 'turquoise', 'silver', 'gold', 'copper', 'bronze', 'beige', 'cream', 'ivory', 'lavender', 'peach', 'magenta', 'cyan', 'teal', 'aqua', 'navy', 'maroon', 'burgundy', 'plum', 'charcoal', 'mint', 'sage', 'sand', 'coral', 'salmon', 'tangerine', 'lemon', 'lime', 'olive', 'forest', 'hunter', 'emerald', 'jade', 'ruby', 'garnet', 'amethyst', 'sapphire', 'periwinkle', 'powder blue', 'baby blue', 'sky blue', 'royal blue', 'cobalt blue', 'steel gray', 'chrome', 'rose', 'blush', 'mauve', 'taupe', 'sienna', 'umber', 'sepia', 'caramel', 'honey', 'mustard', 'saffron', 'cardinal', 'crimson', 'scarlet', 'vermilion', 'fuchsia', 'raspberry', 'mulberry', 'lilac', 'wisteria', 'iris', 'poppy', 'sunflower', 'daffodil', 'buttercup', 'clover', 'moss', 'fern', 'spruce', 'pine', 'cedar', 'mahogany', 'walnut', 'ebony', 'onyx', 'pearl', 'opal', 'amber', 'topaz', 'garnet', 'peridot', 'turquoise', 'azurite', 'lapis lazuli', 'malachite', 'jadeite', 'celadon', 'celadonite', 'caput mortuum', 'smalt', 'rose madder', 'carmine', 'cochineal', 'gamboge', 'tyrian purple', 'mayan blue', 'Prussian blue', \"Scheele's green\", 'chrome yellow', 'cadmium red', 'cadmium orange', 'cadmium yellow', 'cadmium green', 'cadmium blue', 'ultramarine blue', 'burnt sienna', 'raw umber', 'burnt umber', 'raw sienna', 'yellow ochre', 'red ochre', 'green ochre', 'blue ochre', 'viridian green', 'viridian blue', 'manganese blue', 'manganese violet', 'manganese green', 'manganese black', \"Payne's gray\", 'ivory black', 'lamp black', 'sepia brown', 'sepia black', 'bistre', 'bistre brown', 'bistre black', 'caput mortuum red', 'caput mortuum brown', 'caput mortuum black', 'rose madder lake', 'carmine lake', 'cochineal lake', 'gamboge lake', 'smalt lake', 'ultramarine lake', 'Prussian blue lake', \"Scheele's green lake\", 'chrome yellow lake', 'cadmium red lake', 'cadmium orange lake', 'cadmium yellow lake', 'cadmium green lake', 'cadmium blue lake']\n"
     ]
    }
   ],
   "source": [
    "# Parsing structured output\n",
    "from langchain.output_parsers import CommaSeparatedListOutputParser\n",
    "\n",
    "output_parser = CommaSeparatedListOutputParser()\n",
    "format_instructions = output_parser.get_format_instructions()\n",
    "\n",
    "list_prompt = PromptTemplate(\n",
    "    template=\"List 100 {item}. {format_instructions} write only the colors, nothing else\",\n",
    "    input_variables=[\"item\"],\n",
    "    partial_variables={\"format_instructions\": format_instructions}\n",
    ")\n",
    "\n",
    "chain = list_prompt | llm |output_parser\n",
    "result = chain.invoke({\"item\":\"colors\"})\n",
    "print(type(result))\n",
    "print(\"\\nParsed list:\", result)"
   ]
  },
  {
   "cell_type": "markdown",
   "metadata": {},
   "source": [
    "## 5. Best Practices for Prompt Engineering\n",
    "\n",
    "Here are some best practices for effective prompt engineering:"
   ]
  },
  {
   "cell_type": "code",
   "execution_count": 19,
   "metadata": {},
   "outputs": [
    {
     "name": "stdout",
     "output_type": "stream",
     "text": [
      "\n",
      "---------------------------------------------------\n",
      "Specific Prompt Result:\n",
      "Quantum entanglement is a fascinating concept in physics that can be a bit tricky to understand, but I'll try to break it down in simple terms.\n",
      "\n",
      "**What is Quantum Entanglement?**\n",
      "\n",
      "Imagine you have two toy cars that are connected by a spring. If you push one car, the other car will move too, because they're connected by the spring. This is a classical example of how two objects can be connected and affect each other.\n",
      "\n",
      "Now, imagine that these toy cars are not just connected by a spring, but they're also connected in a way that lets them \"talk\" to each other instantly, no matter how far apart they are. This means that if you do something to one car, the other car will be affected immediately, even if they're on opposite sides of the universe.\n",
      "\n",
      "This is roughly what happens in quantum entanglement. When two particles, like atoms or electrons, become \"entangled,\" they become connected in a way that lets them affect each other instantly, no matter how far apart they are.\n",
      "\n",
      "**How Does it Work?**\n",
      "\n",
      "In quantum mechanics, particles can exist in multiple states at the same time, like spinning both clockwise and counterclockwise at the same time. When two particles become entangled, their states become linked, so that what happens to one particle affects the state of the other particle.\n",
      "\n",
      "For example, imagine two entangled particles, one spinning clockwise and the other spinning counterclockwise. If you measure the state of one particle, the state of the other particle will be instantly determined, even if they're separated by huge distances.\n",
      "\n",
      "**The Weird Part**\n",
      "\n",
      "Here's the really weird part: entangled particles can be separated by huge distances, and yet they can still affect each other instantly. This seems to violate the fundamental principle of relativity, which says that nothing can travel faster than the speed of light.\n",
      "\n",
      "But entanglement doesn't actually involve particles moving or communicating with each other in the classical sense. Instead, it's more like a \"quantum connection\" that lets them affect each other in a way that's not limited by distance or time.\n",
      "\n",
      "**What Does it Mean?**\n",
      "\n",
      "Quantum entanglement is a fundamental aspect of quantum mechanics, and it has been experimentally confirmed many times. It's a key feature of quantum computing and quantum cryptography, and it has the potential to revolutionize the way we communicate and process information.\n",
      "\n",
      "In simple terms, entanglement shows that the behavior of particles at the quantum level is fundamentally different from the behavior of objects in the classical world. It's a mind-bending concept that challenges our understanding of space, time, and reality itself.\n",
      "\n",
      "I hope this helps! Do you have any questions about entanglement?\n",
      "\n",
      "---------------------------------------------------\n",
      "Few-shot Prompt Result:\n",
      "Sentiment: Neutral\n",
      "\n",
      "The text expresses a neutral sentiment as it neither strongly praises nor strongly criticizes the movie. The phrase \"I guess\" also adds a tone of uncertainty, which further supports the neutral classification.\n",
      "\n",
      "---------------------------------------------------\n",
      "Step-by-step Prompt Result:\n",
      "To solve the problem 'Calculate the area of a circle with radius 5 cm', I will follow the given steps:\n",
      "\n",
      "1. Identify the key information:\n",
      "   The key information in this problem is the radius of the circle, which is 5 cm.\n",
      "\n",
      "2. Determine the appropriate formula or method:\n",
      "   The formula to calculate the area of a circle is A = πr², where A is the area and r is the radius of the circle.\n",
      "\n",
      "3. Apply the formula or method step-by-step:\n",
      "   Using the formula A = πr², we can substitute the value of the radius (r = 5 cm) into the formula.\n",
      "   A = π(5)²\n",
      "   A = π(25)\n",
      "   A ≈ 3.14159 * 25\n",
      "   A ≈ 78.54\n",
      "\n",
      "4. Check your answer:\n",
      "   To check the answer, we can use a calculator or round the value of π to a simpler decimal (e.g., 3.14) and recalculate the area.\n",
      "   A ≈ 3.14 * 25\n",
      "   A ≈ 78.5\n",
      "   The calculated area is approximately 78.54 square centimeters, which is close to the estimated value.\n"
     ]
    }
   ],
   "source": [
    "# 1. Be specific and provide context\n",
    "specific_prompt = PromptTemplate(\n",
    "    template=\"You are an expert in {field}. Explain {concept} in simple terms for a beginner.\",\n",
    "    input_variables=[\"field\", \"concept\"]\n",
    ")\n",
    "\n",
    "# 2. Use examples (few-shot learning)\n",
    "few_shot_prompt = PromptTemplate(\n",
    "    template=\"\"\"Classify the sentiment of the following text as positive, negative, or neutral.\n",
    "\n",
    "Example 1:\n",
    "Text: I love this product!\n",
    "Sentiment: Positive\n",
    "\n",
    "Example 2:\n",
    "Text: This is the worst experience ever.\n",
    "Sentiment: Negative\n",
    "\n",
    "Example 3:\n",
    "Text: The weather is cloudy today.\n",
    "Sentiment: Neutral\n",
    "\n",
    "Now, classify the following text:\n",
    "Text: {text}\n",
    "Sentiment:\"\"\",\n",
    "    input_variables=[\"text\"]\n",
    ")\n",
    "\n",
    "# 3. Break complex tasks into steps\n",
    "step_prompt = PromptTemplate(\n",
    "    template=\"\"\"To solve the problem '{problem}', follow these steps:\n",
    "1. Identify the key information\n",
    "2. Determine the appropriate formula or method\n",
    "3. Apply the formula or method step-by-step\n",
    "4. Check your answer\n",
    "\n",
    "Now, solve the problem:\"\"\",\n",
    "    input_variables=[\"problem\"]\n",
    ")\n",
    "\n",
    "# Test the prompts\n",
    "chains = {\n",
    "    \"Specific\": specific_prompt | llm,\n",
    "    \"Few-shot\": few_shot_prompt | llm,\n",
    "    \"Step-by-step\": step_prompt | llm \n",
    "    }\n",
    "\n",
    "for name, chain in chains.items():\n",
    "    print(f\"\\n---------------------------------------------------\\n{name} Prompt Result:\")\n",
    "    if name == \"Specific\":\n",
    "        print(chain.invoke({\"field\":\"physics\", \"concept\":\"quantum entanglement\"}).content)\n",
    "    elif name == \"Few-shot\":\n",
    "        print(chain.invoke({\"text\":\"This movie was okay, I guess.\"}).content)\n",
    "    else:\n",
    "        print(chain.invoke({\"problem\":\"Calculate the area of a circle with radius 5 cm\"}).content)"
   ]
  },
  {
   "cell_type": "markdown",
   "metadata": {},
   "source": [
    "## Conclusion\n",
    "\n",
    "In this tutorial, we've explored various aspects of working with language models in LangChain, including connecting to models, creating prompt templates, building chains, handling responses, and implementing best practices for prompt engineering. These skills will serve as a foundation for building more complex applications with LangChain in future tutorials."
   ]
  }
 ],
 "metadata": {
  "kernelspec": {
   "display_name": "Python 3",
   "language": "python",
   "name": "python3"
  },
  "language_info": {
   "codemirror_mode": {
    "name": "ipython",
    "version": 3
   },
   "file_extension": ".py",
   "mimetype": "text/x-python",
   "name": "python",
   "nbconvert_exporter": "python",
   "pygments_lexer": "ipython3",
   "version": "3.10.11"
  }
 },
 "nbformat": 4,
 "nbformat_minor": 4
}
