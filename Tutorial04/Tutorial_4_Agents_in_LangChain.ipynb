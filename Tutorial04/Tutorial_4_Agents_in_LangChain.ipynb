{
 "cells": [
  {
   "cell_type": "markdown",
   "metadata": {},
   "source": [
    "# Tutorial 4: Agents in LangChain\n",
    "\n",
    "In this tutorial, we'll explore Agents in LangChain, which are autonomous entities capable of using tools and making decisions to accomplish tasks."
   ]
  },
  {
   "cell_type": "code",
   "execution_count": 1,
   "metadata": {},
   "outputs": [],
   "source": [
    "import os\n",
    "from dotenv import load_dotenv\n",
    "from langchain_groq import ChatGroq\n",
    "from langchain.agents import load_tools, initialize_agent, AgentType,create_react_agent, AgentExecutor\n",
    "from langchain.tools import Tool,DuckDuckGoSearchRun\n",
    "# from langchain_community.agent_toolkits import PlayWrightBrowserToolkit\n",
    "# from langchain_community.tools.playwright.utils import create_sync_playwright_browser\n",
    "# from langgraph.prebuilt.chat_agent_executor import create_react_agent\n",
    "\n",
    "# Load environment variables\n",
    "load_dotenv()\n",
    "\n",
    "# Initialize Groq LLM\n",
    "llm = ChatGroq(\n",
    "        model_name=\"llama-3.1-70b-versatile\",\n",
    "        temperature=0.7,\n",
    "        model_kwargs={\"top_p\": 0.8, \"seed\": 1337}\n",
    "    )"
   ]
  },
  {
   "cell_type": "markdown",
   "metadata": {},
   "source": [
    "## 1. Understanding Agent Architecture\n",
    "\n",
    "Agents in LangChain combine an LLM with a set of tools to perform tasks. The LLM decides which tools to use and how to interpret their outputs."
   ]
  },
  {
   "cell_type": "markdown",
   "metadata": {},
   "source": [
    "## 2. Exploring Different Types of Agents"
   ]
  },
  {
   "cell_type": "markdown",
   "metadata": {},
   "source": [
    "### Zero-shot React Agent"
   ]
  },
  {
   "cell_type": "code",
   "execution_count": null,
   "metadata": {},
   "outputs": [
    {
     "name": "stderr",
     "output_type": "stream",
     "text": [
      "/tmp/ipykernel_114402/2048912467.py:19: LangChainDeprecationWarning: The function `initialize_agent` was deprecated in LangChain 0.1.0 and will be removed in 1.0. Use :meth:`~Use new agent constructor methods like create_react_agent, create_json_agent, create_structured_chat_agent, etc.` instead.\n",
      "  zero_shot_agent = initialize_agent(\n"
     ]
    },
    {
     "name": "stdout",
     "output_type": "stream",
     "text": [
      "\n",
      "\n",
      "\u001b[1m> Entering new AgentExecutor chain...\u001b[0m\n",
      "\u001b[32;1m\u001b[1;3mThought: To find the square root of the year Pythagoras was born, I first need to find the year Pythagoras was born. Then, I can use the calculator to find the square root of that year.\n",
      "\n",
      "Action: wikipedia\n",
      "Action Input: Pythagoras\u001b[0m\n",
      "Observation: \u001b[36;1m\u001b[1;3mPage: Pythagoras\n",
      "Summary: Pythagoras of Samos (Ancient Greek: Πυθαγόρας; c. 570 – c. 495 BC) was an ancient Ionian Greek philosopher, polymath, and the eponymous founder of Pythagoreanism. His political and religious teachings were well known in Magna Graecia and influenced the philosophies of Plato, Aristotle, and, through them, the West in general. Knowledge of his life is clouded by legend; modern scholars disagree regarding Pythagoras's education and influences, but they do agree that, around 530 BC, he travelled to Croton in southern Italy, where he founded a school in which initiates were sworn to secrecy and lived a communal, ascetic lifestyle.\n",
      "In antiquity, Pythagoras was credited with many mathematical and scientific discoveries, including the Pythagorean theorem, Pythagorean tuning, the five regular solids, the Theory of Proportions, the sphericity of the Earth, and the identity of the morning and evening stars as the planet Venus. It was said that he was the first man to call himself a philosopher (\"lover of wisdom\") and that he was the first to divide the globe into five climatic zones. Classical historians debate whether Pythagoras made these discoveries, and many of the accomplishments credited to him likely originated earlier or were made by his colleagues or successors. Some accounts mention that the philosophy associated with Pythagoras was related to mathematics and that numbers were important, but it is debated to what extent, if at all, he actually contributed to mathematics or natural philosophy.\n",
      "The teaching most securely identified with Pythagoras is the \"transmigration of souls\" or metempsychosis, which holds that every soul is immortal and, upon death, enters into a new body. He may have also devised the doctrine of musica universalis, which holds that the planets move according to mathematical equations and thus resonate to produce an inaudible symphony of music. Scholars debate whether Pythagoras developed the numerological and musical teachings attributed to him, or if those teachings were developed by his later followers, particularly Philolaus of Croton. Following Croton's decisive victory over Sybaris in around 510 BC, Pythagoras's followers came into conflict with supporters of democracy, and Pythagorean meeting houses were burned. Pythagoras may have been killed during this persecution, or he may have escaped to Metapontum and died there.\n",
      "Pythagoras influenced Plato, whose dialogues, especially his Timaeus, exhibit Pythagorean teachings. Pythagorean ideas on mathematical perfection also impacted ancient Greek art. His teachings underwent a major revival in the first century BC among Middle Platonists, coinciding with the rise of Neopythagoreanism. Pythagoras continued to be regarded as a great philosopher throughout the Middle Ages and his philosophy had a major impact on scientists such as Nicolaus Copernicus, Johannes Kepler, and Isaac Newton. Pythagorean symbolism was also used throughout early modern European esotericism, and his teachings as portrayed in Ovid's Metamorphoses would later influence the modern vegetarian movement.\n",
      "\n",
      "Page: Pythagorean theorem\n",
      "Summary: In mathematics, the Pythagorean theorem or Pythagoras' theorem is a fundamental relation in Euclidean geometry between the three sides of a right triangle. It states that the area of the square whose side is the hypotenuse (the side opposite the right angle) is equal to the sum of the areas of the squares on the other two sides.\n",
      "The theorem can be written as an equation relating the lengths of the sides a, b and the hypotenuse c, sometimes called the Pythagorean equation:\n",
      "\n",
      "  \n",
      "    \n",
      "      \n",
      "        \n",
      "          a\n",
      "          \n",
      "            2\n",
      "          \n",
      "        \n",
      "        +\n",
      "        \n",
      "          b\n",
      "          \n",
      "            2\n",
      "          \n",
      "        \n",
      "        =\n",
      "        \n",
      "          c\n",
      "          \n",
      "            2\n",
      "          \n",
      "        \n",
      "        .\n",
      "      \n",
      "    \n",
      "    {\\displaystyle a^{2}+b^{2}=c^{2}.}\n",
      "  \n",
      "\n",
      "The theorem is named for the Greek philosopher Pythagoras, born ar\u001b[0m\n",
      "Thought:\u001b[32;1m\u001b[1;3mThought: Based on the Wikipedia page, Pythagoras was born around 570 BC. Now I can use the calculator to find the square root of this year.\n",
      "\n",
      "Action: Calculator\n",
      "Action Input: sqrt(570)\u001b[0m\n",
      "Observation: \u001b[33;1m\u001b[1;3mAnswer: 23.874672772626646\u001b[0m\n",
      "Thought:\u001b[32;1m\u001b[1;3mThought: I now know the final answer\n",
      "\n",
      "Final Answer: The square root of the year Pythagoras was born is approximately 23.87.\u001b[0m\n",
      "\n",
      "\u001b[1m> Finished chain.\u001b[0m\n"
     ]
    },
    {
     "data": {
      "text/plain": [
       "{'input': 'What is the square root of the year Pythagoras was born?',\n",
       " 'output': 'The square root of the year Pythagoras was born is approximately 23.87.'}"
      ]
     },
     "execution_count": 4,
     "metadata": {},
     "output_type": "execute_result"
    }
   ],
   "source": [
    "search = DuckDuckGoSearchRun()\n",
    "\n",
    "def get_word_length(word: str) -> int:\n",
    "    \"\"\"Returns the length of a word.\"\"\"\n",
    "    return len(word)\n",
    "\n",
    "\n",
    "tools = load_tools([\"wikipedia\", \"llm-math\"], llm=llm)\n",
    "\n",
    "zero_shot_agent = initialize_agent(\n",
    "    tools,\n",
    "    llm,\n",
    "    agent=AgentType.ZERO_SHOT_REACT_DESCRIPTION,\n",
    "    verbose=True\n",
    ")\n",
    "\n",
    "zero_shot_agent.invoke(\n",
    "    \"What is the square root of the year Pythagoras was born?\"\n",
    ")"
   ]
  },
  {
   "cell_type": "code",
   "execution_count": 18,
   "metadata": {},
   "outputs": [],
   "source": [
    "#Create Web Search Tool\n",
    "tools_web_search =[\n",
    "    Tool(\n",
    "        name=\"DuckDuckGo Search\",\n",
    "        func=search.run,\n",
    "        description=\"Useful for searching the internet for current information\"\n",
    "    )\n",
    "]"
   ]
  },
  {
   "cell_type": "markdown",
   "metadata": {},
   "source": [
    "### Conversational Agent"
   ]
  },
  {
   "cell_type": "code",
   "execution_count": 21,
   "metadata": {},
   "outputs": [
    {
     "name": "stdout",
     "output_type": "stream",
     "text": [
      "\n",
      "\n",
      "\u001b[1m> Entering new AgentExecutor chain...\u001b[0m\n",
      "\u001b[32;1m\u001b[1;3mThought: Do I need to use a tool? Yes\n",
      "Action: wikipedia\n",
      "Action Input: theory of relativity\u001b[0m\n",
      "Observation: \u001b[36;1m\u001b[1;3mPage: Theory of relativity\n",
      "Summary: The theory of relativity usually encompasses two interrelated physics theories by Albert Einstein: special relativity and general relativity, proposed and published in 1905 and 1915, respectively. Special relativity applies to all physical phenomena in the absence of gravity. General relativity explains the law of gravitation and its relation to the forces of nature. It applies to the cosmological and astrophysical realm, including astronomy.\n",
      "The theory transformed theoretical physics and astronomy during the 20th century, superseding a 200-year-old theory of mechanics created primarily by Isaac Newton. It introduced concepts including 4-dimensional spacetime as a unified entity of space and time, relativity of simultaneity, kinematic and gravitational time dilation, and length contraction. In the field of physics, relativity improved the science of elementary particles and their fundamental interactions, along with ushering in the nuclear age. With relativity, cosmology and astrophysics predicted extraordinary astronomical phenomena such as neutron stars, black holes, and gravitational waves.\n",
      "\n",
      "Page: General relativity\n",
      "Summary: General relativity, also known as the general theory of relativity, and as Einstein's theory of gravity, is the geometric theory of gravitation published by Albert Einstein in 1915 and is the current description of gravitation in modern physics. General relativity generalizes special relativity and refines Newton's law of universal gravitation, providing a unified description of gravity as a geometric property of space and time, or four-dimensional spacetime. In particular, the curvature of spacetime is directly related to the energy and momentum of whatever present matter and radiation. The relation is specified by the Einstein field equations, a system of second-order partial differential equations.\n",
      "Newton's law of universal gravitation, which describes classical gravity, can be seen as a prediction of general relativity for the almost flat spacetime geometry around stationary mass distributions. Some predictions of general relativity, however, are beyond Newton's law of universal gravitation in classical physics. These predictions concern the passage of time, the geometry of space, the motion of bodies in free fall, and the propagation of light, and include gravitational time dilation, gravitational lensing, the gravitational redshift of light, the Shapiro time delay and singularities/black holes. So far, all tests of general relativity have been shown to be in agreement with the theory. The time-dependent solutions of general relativity enable us to talk about the history of the universe and have provided the modern framework for cosmology, thus leading to the discovery of the Big Bang and cosmic microwave background radiation. Despite the introduction of a number of alternative theories, general relativity continues to be the simplest theory consistent with experimental data.\n",
      "Reconciliation of general relativity with the laws of quantum physics remains a problem, however, as there is a lack of a self-consistent theory of quantum gravity. It is not yet known how gravity can be unified with the three non-gravitational forces: strong, weak and electromagnetic.\n",
      "Einstein's theory has astrophysical implications, including the prediction of black holes—regions of space in which space and time are distorted in such a way that nothing, not even light, can escape from them. Black holes are the end-state for massive stars. Microquasars and active galactic nuclei are believed to be stellar black holes and supermassive black holes. It also predicts gravitational lensing, where the bending of light results in multiple images of the same distant astronomical phenomenon. Other predictions include the existence of gravitational waves, which have been observed directly by the physics collaboration LIGO and other observatories. In addition, general relativity has provided the base \u001b[0m\n",
      "Thought:\u001b[32;1m\u001b[1;3mDo I need to use a tool? No\n",
      "AI: Now that you have a basic understanding of the theory of relativity, let's solve a math problem related to it. What kind of math problem would you like to solve? Would you like to calculate time dilation, length contraction, or something else?\u001b[0m\n",
      "\n",
      "\u001b[1m> Finished chain.\u001b[0m\n"
     ]
    },
    {
     "data": {
      "text/plain": [
       "{'input': \"Hello! I'd like to learn about the theory of relativity and then solve a math problem related to it.\",\n",
       " 'chat_history': '',\n",
       " 'output': \"Now that you have a basic understanding of the theory of relativity, let's solve a math problem related to it. What kind of math problem would you like to solve? Would you like to calculate time dilation, length contraction, or something else?\"}"
      ]
     },
     "execution_count": 21,
     "metadata": {},
     "output_type": "execute_result"
    }
   ],
   "source": [
    "conversational_agent = initialize_agent(\n",
    "    tools+tools_web_search,\n",
    "    llm,\n",
    "    agent=AgentType.CONVERSATIONAL_REACT_DESCRIPTION,\n",
    "    verbose=True\n",
    ")\n",
    "\n",
    "conversational_agent.invoke({\"input\":\"Hello! I'd like to learn about the theory of relativity and then solve a math problem related to it.\",\"chat_history\":\"\"})"
   ]
  },
  {
   "cell_type": "markdown",
   "metadata": {},
   "source": [
    "### STRUCTURED_CHAT_ZERO_SHOT_REACT_DESCRIPTION Agent"
   ]
  },
  {
   "cell_type": "code",
   "execution_count": 24,
   "metadata": {},
   "outputs": [
    {
     "name": "stdout",
     "output_type": "stream",
     "text": [
      "\n",
      "\n",
      "\u001b[1m> Entering new AgentExecutor chain...\u001b[0m\n",
      "\u001b[32;1m\u001b[1;3mThought: To answer this question, I need to find out who invented the telephone and the year it was invented. Then, I can calculate the number of years between the invention of the telephone and the first moon landing.\n",
      "\n",
      "Action:\n",
      "```\n",
      "{\n",
      "  \"action\": \"wikipedia\",\n",
      "  \"action_input\": \"telephone invention\"\n",
      "}\n",
      "```\n",
      "\u001b[0m\n",
      "Observation: \u001b[36;1m\u001b[1;3mPage: Invention of the telephone\n",
      "Summary: The invention of the telephone was the culmination of work done by more than one individual, and led to an array of lawsuits relating to the patent claims of several individuals and numerous companies. Notable people included in this were Antonio Meucci, Philipp Reis, Elisha Gray and Alexander Graham Bell.\n",
      "\n",
      "Page: History of the telephone\n",
      "Summary: This history of the telephone chronicles the development of the electrical telephone, and includes a brief overview of its predecessors.  The first telephone patent was granted to Alexander Graham Bell in 1869.\n",
      "\n",
      "\n",
      "\n",
      "Page: Reis telephone\n",
      "Summary: The Reis telephone was an invention named after Philipp Reis of a telephone-like device he constructed.  Reis's first successful work is dated to October 1861. It was the first device to transmit a voice via electronic signals and for that the first modern telephone. Reis also coined the term.\n",
      "\n",
      "\u001b[0m\n",
      "Thought:\u001b[32;1m\u001b[1;3mAction:\n",
      "```\n",
      "{\n",
      "  \"action\": \"wikipedia\",\n",
      "  \"action_input\": \"first moon landing\"\n",
      "}\n",
      "```\n",
      "\n",
      "\u001b[0m\n",
      "Observation: \u001b[36;1m\u001b[1;3mPage: Apollo 11\n",
      "Summary: Apollo 11 was a spaceflight conducted by the United States from July 16 to July 24, 1969. It marked the first time that humans landed on the Moon. Commander Neil Armstrong and Lunar Module Pilot Buzz Aldrin landed the Apollo Lunar Module Eagle on July 20, 1969, at 20:17 UTC, and Armstrong became the first person to step onto the Moon's surface six hours and 39 minutes later, on July 21 at 02:56 UTC. Aldrin joined him 19 minutes later, and they spent about two and a quarter hours together exploring the site they had named Tranquility Base upon landing. Armstrong and Aldrin collected 47.5 pounds (21.5 kg) of lunar material to bring back to Earth as pilot Michael Collins flew the Command Module Columbia in lunar orbit, and were on the Moon's surface for 21 hours, 36 minutes, before lifting off to rejoin Columbia.\n",
      "Apollo 11 was launched by a Saturn V rocket from Kennedy Space Center on Merritt Island, Florida, on July 16 at 13:32 UTC, and it was the fifth crewed mission of NASA's Apollo program. The Apollo spacecraft had three parts: a command module (CM) with a cabin for the three astronauts, the only part that returned to Earth; a service module (SM), which supported the command module with propulsion, electrical power, oxygen, and water; and a lunar module (LM) that had two stages—a descent stage for landing on the Moon and an ascent stage to place the astronauts back into lunar orbit.\n",
      "After being sent to the Moon by the Saturn V's third stage, the astronauts separated the spacecraft from it and traveled for three days until they entered lunar orbit. Armstrong and Aldrin then moved into Eagle and landed in the Sea of Tranquility on July 20. The astronauts used Eagle's ascent stage to lift off from the lunar surface and rejoin Collins in the command module. They jettisoned Eagle before they performed the maneuvers that propelled Columbia out of the last of its 30 lunar orbits onto a trajectory back to Earth. They returned to Earth and splashed down in the Pacific Ocean on July 24 after more than eight days in space.\n",
      "Armstrong's first step onto the lunar surface was broadcast on live TV to a worldwide audience. He described the event as \"one small step for [a] man, one giant leap for mankind.\" Apollo 11 effectively proved U.S. victory in the Space Race to demonstrate spaceflight superiority, by fulfilling a national goal proposed in 1961 by President John F. Kennedy, \"before this decade is out, of landing a man on the Moon and returning him safely to the Earth.\"\n",
      "\n",
      "Page: Moon landing\n",
      "Summary: A Moon landing or lunar landing is the arrival of a spacecraft on the surface of the Moon, including both crewed and robotic missions. The first human-made object to touch the Moon was Luna 2 in 1959.\n",
      "In 1969 Apollo 11 was the first crewed mission to land on the Moon. There were six crewed landings between 1969 and 1972, and numerous uncrewed landings. All crewed missions to the Moon were conducted by the Apollo program, with the last departing the lunar surface in December 1972. After Luna 24 in 1976 there were no soft landings on the Moon until Chang'e 3 in 2013. All soft landings took place on the near side of the Moon until January 2019, when Chang'e 4 made the first landing on the far side of the Moon.\n",
      "\n",
      "Page: Moon landing conspiracy theories\n",
      "Summary: Moon landing conspiracy theories claim that some or all elements of the Apollo program and the associated Moon landings were hoaxes staged by NASA, possibly with the aid of other organizations. The most notable claim of these conspiracy theories is that the six crewed landings (1969–1972) were faked and that twelve Apollo astronauts did not actually land on the Moon. Various groups and individuals have made claims since the mid-1970s that NASA and others knowingly misled the public into believing the landings happened, by manufacturing, tampering with, or destroying evidence including photos, telemetry tapes, radio and TV transmissions, and Moon rock samples.\n",
      "Much thi\u001b[0m\n",
      "Thought:\u001b[32;1m\u001b[1;3mAction:\n",
      "```\n",
      "{\n",
      "  \"action\": \"Calculator\",\n",
      "  \"action_input\": \"1969 - 1861\"\n",
      "}\n",
      "```\u001b[0m\n",
      "Observation: \u001b[33;1m\u001b[1;3mAnswer: 108\u001b[0m\n",
      "Thought:\u001b[32;1m\u001b[1;3mAction:\n",
      "```\n",
      "{\n",
      "  \"action\": \"Final Answer\",\n",
      "  \"action_input\": \"The invention of the telephone is credited to several individuals, including Alexander Graham Bell, who was granted the first telephone patent in 1869. The first moon landing occurred on July 20, 1969. Therefore, the number of years between the invention of the telephone and the first moon landing is 108 years.\"\n",
      "}\n",
      "```\u001b[0m\n",
      "\n",
      "\u001b[1m> Finished chain.\u001b[0m\n"
     ]
    },
    {
     "data": {
      "text/plain": [
       "'The invention of the telephone is credited to several individuals, including Alexander Graham Bell, who was granted the first telephone patent in 1869. The first moon landing occurred on July 20, 1969. Therefore, the number of years between the invention of the telephone and the first moon landing is 108 years.'"
      ]
     },
     "execution_count": 24,
     "metadata": {},
     "output_type": "execute_result"
    }
   ],
   "source": [
    "plan_and_execute_agent = initialize_agent(\n",
    "    tools,\n",
    "    llm,\n",
    "    agent=AgentType.STRUCTURED_CHAT_ZERO_SHOT_REACT_DESCRIPTION,\n",
    "    verbose=True\n",
    ")\n",
    "\n",
    "plan_and_execute_agent.run(\n",
    "    \"Find out who invented the telephone and calculate the number of years between that invention and the first moon landing.\"\n",
    ")"
   ]
  },
  {
   "cell_type": "markdown",
   "metadata": {},
   "source": [
    "## 3. Creating Custom Tools for Agents"
   ]
  },
  {
   "cell_type": "code",
   "execution_count": 15,
   "metadata": {},
   "outputs": [
    {
     "name": "stdout",
     "output_type": "stream",
     "text": [
      "\n",
      "\n",
      "\u001b[1m> Entering new AgentExecutor chain...\u001b[0m\n",
      "\u001b[32;1m\u001b[1;3mThought: To find the length of the word 'supercalifragilisticexpialidocious', we can use the WordLength tool. To find the square root of the length, we can use the Calculator tool.\n",
      "\n",
      "Action:\n",
      "```\n",
      "{\n",
      "  \"action\": \"WordLength\",\n",
      "  \"action_input\": \"supercalifragilisticexpialidocious\"\n",
      "}\n",
      "```\n",
      "\u001b[0m\n",
      "Observation: \u001b[36;1m\u001b[1;3m34\u001b[0m\n",
      "Thought:\u001b[32;1m\u001b[1;3mTo find the square root of the length of the word 'supercalifragilisticexpialidocious', we can use the Calculator tool with the previously calculated length as the input.\n",
      "\n",
      "Action:\n",
      "```\n",
      "{\n",
      "  \"action\": \"Calculator\",\n",
      "  \"action_input\": \"sqrt(34)\"\n",
      "}\n",
      "```\n",
      "\n",
      "\u001b[0m\n",
      "Observation: \u001b[38;5;200m\u001b[1;3mAnswer: 5.830951894845301\u001b[0m\n",
      "Thought:\u001b[32;1m\u001b[1;3mAction:\n",
      "```\n",
      "{\n",
      "  \"action\": \"Final Answer\",\n",
      "  \"action_input\": \"The length of the word 'supercalifragilisticexpialidocious' is 34 and its square root is approximately 5.83.\"\n",
      "}\n",
      "```\u001b[0m\n",
      "\n",
      "\u001b[1m> Finished chain.\u001b[0m\n"
     ]
    },
    {
     "data": {
      "text/plain": [
       "\"The length of the word 'supercalifragilisticexpialidocious' is 34 and its square root is approximately 5.83.\""
      ]
     },
     "execution_count": 15,
     "metadata": {},
     "output_type": "execute_result"
    }
   ],
   "source": [
    "def get_word_length(word: str) -> int:\n",
    "    \"\"\"Returns the length of a word.\"\"\"\n",
    "    return len(word)\n",
    "\n",
    "word_length_tool = Tool(\n",
    "    name=\"WordLength\",\n",
    "    func=get_word_length,\n",
    "    description=\"Useful for getting the length of a word\"\n",
    ")\n",
    "\n",
    "custom_tools = [word_length_tool] + tools\n",
    "\n",
    "custom_agent = initialize_agent(\n",
    "    custom_tools,\n",
    "    llm,\n",
    "    agent=AgentType.STRUCTURED_CHAT_ZERO_SHOT_REACT_DESCRIPTION,\n",
    "    verbose=True\n",
    ")\n",
    "\n",
    "custom_agent.run(\n",
    "    \"What's the length of the word 'supercalifragilisticexpialidocious' and its square root?\"\n",
    ")"
   ]
  },
  {
   "cell_type": "markdown",
   "metadata": {},
   "source": [
    "## 4. Implementing a Multi-tool Agent for Task Solving"
   ]
  },
  {
   "cell_type": "code",
   "execution_count": 25,
   "metadata": {},
   "outputs": [
    {
     "name": "stdout",
     "output_type": "stream",
     "text": [
      "\n",
      "\n",
      "\u001b[1m> Entering new AgentExecutor chain...\u001b[0m\n",
      "\u001b[32;1m\u001b[1;3mThought: To find the current temperature in New York City, I will use the DuckDuckGo Search tool.\n",
      "\n",
      "Action:\n",
      "```\n",
      "{\n",
      "  \"action\": \"DuckDuckGo Search\",\n",
      "  \"action_input\": \"current temperature in New York City\"\n",
      "}\n",
      "```\n",
      "\u001b[0m\n",
      "Observation: \u001b[36;1m\u001b[1;3mCurrent conditions at New York City, Central Park (KNYC) Lat: 40.78°NLon: 73.97°WElev: 154ft. Fair. 52°F. 11°C. ... New York NY . Red Flag Warning November 12, 02:28pm until November 12, 06:00pm ... National Weather Service; New York, NY; 175 Brookhaven Avenue; Upton, NY 11973; Comments? Questions? Please Contact Us. NOAA National Weather Service. Current conditions at New York City, Central Park (KNYC) Lat: 40.78°NLon: 73.97°WElev: 154ft. Current conditions at New York City, Central Park (KNYC) Lat: 40.78° N Lon: 73.97° W Elev: 154 ft. Weather Underground provides local and long-range weather forecasts, weather reports, maps, and tropical weather conditions for the New York City area. Current weather in New York and forecast for today, tomorrow, and next 14 days. Sign in. News. News Home; Astronomy News; Time Zone News; Calendar & Holiday News; Newsletter; ... New York City - Central Park: Current Time: Nov 13, 2024 at 10:24:49 pm: Latest Report: Nov 13, 2024 at 8:51 pm: Visibility: 10 mi: Pressure: 30.45 \"Hg: Humidity: 37%:\u001b[0m\n",
      "Thought:\u001b[32;1m\u001b[1;3mThought: The current temperature in New York City is 52°F. I will now calculate the square root of that temperature.\n",
      "\n",
      "Action:\n",
      "```\n",
      "{\n",
      "  \"action\": \"Calculator\",\n",
      "  \"action_input\": \"sqrt(52)\"\n",
      "}\n",
      "```\n",
      "\n",
      "\u001b[0m\n",
      "Observation: \u001b[33;1m\u001b[1;3mAnswer: 7.211102550927978\u001b[0m\n",
      "Thought:\u001b[32;1m\u001b[1;3mThought: Now that I have the square root of the temperature, I will find a famous quote about weather.\n",
      "\n",
      "Action:\n",
      "```\n",
      "{\n",
      "  \"action\": \"DuckDuckGo Search\",\n",
      "  \"action_input\": \"famous quote about weather\"\n",
      "}\n",
      "```\n",
      "\n",
      "\u001b[0m\n",
      "Observation: \u001b[36;1m\u001b[1;3mA list of the best weather quotes and sayings, including the names of each speaker or author when available. This list is sorted by popularity, so only the most famous weather quotes are at the top. The authors of these historic weather quotes are displayed next to each quote, so if you see one you like be sure to check out other inspirational ... 6. \"Life is a lot like the weather. It can be both beautiful and unpredictable.\". 7. \"The weather may be cold and rainy, but that doesn't mean your life can't be filled with warmth and joy.\". 8. \"Just as the weather can be a mix of sun and rain, so can life. It's all about finding balance and enjoying the ride.\". Upon a parchment, and against this fire. Do I shrink up. - King John, 5.7.34. For when you're stuck in traffic in July: For now, these hot days, is the mad blood stirring. - Romeo and Juliet, 3.1.4. When it's so hot you can't think straight: The day is hot, and the weather, and the wars, and the King, and the dukes. 60. Then come the wild weather, come sleet or come snow, we will stand by each other, however it blow. — Simon Dach. 43. You bring your own weather to the picnic. — Harlan Coben. 79. There is no such thing as bad weather, only different kinds of good weather. — John Ruskin. When the weather is hot, keep a cool mind. When the weather is cold, keep a warm heart. -- Ajahn Brahm. #Heart #Weather #Mind. Hurricane Sandy is a disturbing sign of things to come. We must heed this warning and act quickly to solve the climate crisis. Dirty energy makes dirty weather. -- Al Gore.\u001b[0m\n",
      "Thought:\u001b[32;1m\u001b[1;3mThought: I found a famous quote about weather, \"There is no such thing as bad weather, only different kinds of good weather.\" - John Ruskin. Now I will find the number of characters in this quote.\n",
      "\n",
      "Action:\n",
      "```\n",
      "{\n",
      "  \"action\": \"WordLength\",\n",
      "  \"action_input\": \"There is no such thing as bad weather, only different kinds of good weather.\"\n",
      "}\n",
      "```\n",
      "\n",
      "\u001b[0m\n",
      "Observation: \u001b[33;1m\u001b[1;3m76\u001b[0m\n",
      "Thought:\u001b[32;1m\u001b[1;3mThought: I have found the current temperature in New York City, calculated its square root, found a famous quote about weather, and calculated the number of characters in that quote.\n",
      "\n",
      "Action:\n",
      "```\n",
      "{\n",
      "  \"action\": \"Final Answer\",\n",
      "  \"action_input\": \"The current temperature in New York City is 52°F. The square root of the temperature is 7.211102550927978. A famous quote about weather is 'There is no such thing as bad weather, only different kinds of good weather.' - John Ruskin. This quote has 76 characters.\"\n",
      "}\n",
      "```\u001b[0m\n",
      "\n",
      "\u001b[1m> Finished chain.\u001b[0m\n"
     ]
    },
    {
     "data": {
      "text/plain": [
       "\"The current temperature in New York City is 52°F. The square root of the temperature is 7.211102550927978. A famous quote about weather is 'There is no such thing as bad weather, only different kinds of good weather.' - John Ruskin. This quote has 76 characters.\""
      ]
     },
     "execution_count": 25,
     "metadata": {},
     "output_type": "execute_result"
    }
   ],
   "source": [
    "# Combine all tools\n",
    "all_tools = tools + tools_web_search + [word_length_tool]\n",
    "\n",
    "multi_tool_agent = initialize_agent(\n",
    "    all_tools,\n",
    "    llm,\n",
    "    agent=AgentType.STRUCTURED_CHAT_ZERO_SHOT_REACT_DESCRIPTION,\n",
    "    verbose=True\n",
    ")\n",
    "\n",
    "multi_tool_agent.run(\n",
    "    \"\"\"Please perform the following tasks:\n",
    "    1. Find the current temperature in New York City.\n",
    "    2. Calculate the square root of that temperature.\n",
    "    3. Find a famous quote about weather and tell me how many characters it has.\n",
    "    Provide a summary of your findings.\n",
    "    \"\"\"\n",
    ")"
   ]
  },
  {
   "cell_type": "markdown",
   "metadata": {},
   "source": [
    "## Conclusion\n",
    "\n",
    "In this tutorial, we've explored Agents in LangChain, including different types of agents, creating custom tools, and implementing a multi-tool agent for complex task solving. Agents provide a powerful way to create autonomous systems that can leverage various tools and make decisions to accomplish tasks."
   ]
  }
 ],
 "metadata": {
  "kernelspec": {
   "display_name": "base",
   "language": "python",
   "name": "python3"
  },
  "language_info": {
   "codemirror_mode": {
    "name": "ipython",
    "version": 3
   },
   "file_extension": ".py",
   "mimetype": "text/x-python",
   "name": "python",
   "nbconvert_exporter": "python",
   "pygments_lexer": "ipython3",
   "version": "3.12.3"
  }
 },
 "nbformat": 4,
 "nbformat_minor": 4
}
