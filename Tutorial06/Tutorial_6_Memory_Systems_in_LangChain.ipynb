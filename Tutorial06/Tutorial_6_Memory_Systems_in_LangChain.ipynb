{
 "cells": [
  {
   "cell_type": "markdown",
   "metadata": {},
   "source": [
    "# Tutorial 6: Memory Systems in LangChain\n",
    "\n",
    "In this tutorial, we'll explore memory systems in LangChain, which allow us to create more contextual and personalized interactions with language models."
   ]
  },
  {
   "cell_type": "markdown",
   "metadata": {},
   "source": [
    "## 1. Types of memory in LangChain\n",
    "\n",
    "LangChain provides several types of memory systems:\n",
    "- Buffer Memory\n",
    "- Summary Memory\n",
    "- Conversation Buffer Memory\n",
    "- Conversation Summary Memory\n",
    "- Vector Store-Backed Memory\n",
    "\n",
    "Let's start by importing the necessary modules:"
   ]
  },
  {
   "cell_type": "code",
   "execution_count": null,
   "metadata": {},
   "outputs": [],
   "source": [
    "import os\n",
    "from langchain.memory import ConversationBufferMemory, ConversationSummaryMemory\n",
    "from langchain.llms import Groq\n",
    "from langchain.chains import ConversationChain\n",
    "from langchain.prompts import PromptTemplate\n",
    "\n",
    "# Set up the Groq LLM\n",
    "llm = Groq(api_key=os.environ[\"GROQ_API_KEY\"])"
   ]
  },
  {
   "cell_type": "markdown",
   "metadata": {},
   "source": [
    "## 2. Implementing conversation memory\n",
    "\n",
    "Let's implement a simple conversation chain with buffer memory:"
   ]
  },
  {
   "cell_type": "code",
   "execution_count": null,
   "metadata": {},
   "outputs": [],
   "source": [
    "# Create a ConversationBufferMemory\n",
    "buffer_memory = ConversationBufferMemory()\n",
    "\n",
    "# Create a ConversationChain with buffer memory\n",
    "conversation = ConversationChain(\n",
    "    llm=llm,\n",
    "    memory=buffer_memory,\n",
    "    verbose=True\n",
    ")\n",
    "\n",
    "# Start a conversation\n",
    "print(conversation.predict(input=\"Hi, my name is Alice.\"))\n",
    "print(conversation.predict(input=\"What's my name?\"))\n",
    "print(conversation.predict(input=\"Tell me a fun fact about my name.\"))"
   ]
  },
  {
   "cell_type": "markdown",
   "metadata": {},
   "source": [
    "## 3. Creating a chatbot with long-term memory\n",
    "\n",
    "Now, let's create a chatbot with summary memory for longer conversations:"
   ]
  },
  {
   "cell_type": "code",
   "execution_count": null,
   "metadata": {},
   "outputs": [],
   "source": [
    "# Create a ConversationSummaryMemory\n",
    "summary_memory = ConversationSummaryMemory(llm=llm)\n",
    "\n",
    "# Create a ConversationChain with summary memory\n",
    "chatbot = ConversationChain(\n",
    "    llm=llm,\n",
    "    memory=summary_memory,\n",
    "    verbose=True\n",
    ")\n",
    "\n",
    "# Simulate a longer conversation\n",
    "responses = [\n",
    "    chatbot.predict(input=\"Hi, I'm Bob. I'm planning a trip to Paris.\"),\n",
    "    chatbot.predict(input=\"What are some must-visit attractions?\"),\n",
    "    chatbot.predict(input=\"I'm also interested in trying local cuisine. Any recommendations?\"),\n",
    "    chatbot.predict(input=\"Lastly, what's the best time of year to visit Paris?\")\n",
    "]\n",
    "\n",
    "for response in responses:\n",
    "    print(response)\n",
    "\n",
    "# Check the summarized memory\n",
    "print(\"\\nSummarized Memory:\")\n",
    "print(summary_memory.load_memory_variables({})['history'])"
   ]
  },
  {
   "cell_type": "markdown",
   "metadata": {},
   "source": [
    "## 4. Advanced memory techniques\n",
    "\n",
    "Let's explore an advanced technique: combining multiple memory types and using a custom prompt template."
   ]
  },
  {
   "cell_type": "code",
   "execution_count": null,
   "metadata": {},
   "outputs": [],
   "source": [
    "from langchain.memory import CombinedMemory\n",
    "\n",
    "# Create a buffer memory for recent interactions\n",
    "short_term_memory = ConversationBufferMemory(k=2, memory_key=\"short_term_memory\")\n",
    "\n",
    "# Create a summary memory for long-term context\n",
    "long_term_memory = ConversationSummaryMemory(llm=llm, memory_key=\"long_term_memory\")\n",
    "\n",
    "# Combine the memories\n",
    "combined_memory = CombinedMemory(memories=[short_term_memory, long_term_memory])\n",
    "\n",
    "# Create a custom prompt template\n",
    "template = \"\"\"\n",
    "You are an AI assistant with both short-term and long-term memory.\n",
    "\n",
    "Short-term memory:\n",
    "{short_term_memory}\n",
    "\n",
    "Long-term memory summary:\n",
    "{long_term_memory}\n",
    "\n",
    "Human: {input}\n",
    "AI: \"\"\"\n",
    "\n",
    "prompt = PromptTemplate(\n",
    "    input_variables=[\"input\", \"short_term_memory\", \"long_term_memory\"],\n",
    "    template=template\n",
    ")\n",
    "\n",
    "# Create a conversation chain with combined memory and custom prompt\n",
    "advanced_chatbot = ConversationChain(\n",
    "    llm=llm,\n",
    "    memory=combined_memory,\n",
    "    prompt=prompt,\n",
    "    verbose=True\n",
    ")\n",
    "\n",
    "# Simulate a conversation with the advanced chatbot\n",
    "responses = [\n",
    "    advanced_chatbot.predict(input=\"Hi, I'm Charlie. I love science fiction books.\"),\n",
    "    advanced_chatbot.predict(input=\"Can you recommend a classic sci-fi novel?\"),\n",
    "    advanced_chatbot.predict(input=\"Thanks! Now, tell me about a recent sci-fi movie.\"),\n",
    "    advanced_chatbot.predict(input=\"What was my name again? And what genre do I like?\")\n",
    "]\n",
    "\n",
    "for response in responses:\n",
    "    print(response)"
   ]
  },
  {
   "cell_type": "markdown",
   "metadata": {},
   "source": [
    "## Conclusion\n",
    "\n",
    "In this tutorial, we've explored various memory systems in LangChain, from simple buffer memory to more advanced techniques like combined memory with custom prompts. These memory systems allow you to create more contextual and personalized interactions in your language model applications."
   ]
  }
 ],
 "metadata": {
  "language_info": {
   "name": "python"
  }
 },
 "nbformat": 4,
 "nbformat_minor": 2
}