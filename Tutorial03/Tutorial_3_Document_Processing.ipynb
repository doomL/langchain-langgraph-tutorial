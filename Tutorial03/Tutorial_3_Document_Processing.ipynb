{
 "cells": [
  {
   "cell_type": "markdown",
   "metadata": {},
   "source": [
    "# Tutorial 3: Document Processing with LangChain\n",
    "\n",
    "In this tutorial, we'll explore document processing techniques using LangChain. We'll cover loading and parsing documents, text splitting, building a simple question-answering system, and implementing semantic search."
   ]
  },
  {
   "cell_type": "code",
   "execution_count": 3,
   "metadata": {},
   "outputs": [],
   "source": [
    "import os\n",
    "from dotenv import load_dotenv\n",
    "from langchain_groq import ChatGroq\n",
    "from langchain.document_loaders import TextLoader, DirectoryLoader\n",
    "from langchain.text_splitter import RecursiveCharacterTextSplitter\n",
    "from langchain.embeddings import OllamaEmbeddings\n",
    "from langchain_community.docstore.in_memory import InMemoryDocstore\n",
    "from langchain.vectorstores import FAISS\n",
    "from langchain.chains import RetrievalQA\n",
    "\n",
    "# Load environment variables\n",
    "load_dotenv()\n",
    "\n",
    "# Initialize Groq LLM\n",
    "llm =  ChatGroq(\n",
    "        model_name=\"llama-3.1-70b-versatile\",\n",
    "        temperature=0.7,\n",
    "        model_kwargs={\"top_p\": 0.8, \"seed\": 1337}\n",
    "    )\n",
    "\n",
    "embedding_model = OllamaEmbeddings(model=\"all-minilm\",base_url=os.getenv(\"OLLAMA_EMBEDDINGS_URL\"))\n"
   ]
  },
  {
   "cell_type": "markdown",
   "metadata": {},
   "source": [
    "## 1. Loading and Parsing Documents"
   ]
  },
  {
   "cell_type": "code",
   "execution_count": 7,
   "metadata": {},
   "outputs": [
    {
     "name": "stdout",
     "output_type": "stream",
     "text": [
      "Content of sample1.txt:\n",
      "**Introduction to Artificial Intelligence**\n",
      "\n",
      "Artificial Intelligence (AI) is an interdisciplinary field within computer science that focuses on developing systems and machines capable of performing ta...\n",
      "\n",
      "Number of documents loaded: 1\n",
      "Document 1 preview: **Introduction to Artificial Intelligence**\n",
      "\n",
      "Artif...\n"
     ]
    }
   ],
   "source": [
    "# Load a single document\n",
    "loader = TextLoader(\"sample_documents/sample1.txt\")\n",
    "document = loader.load()\n",
    "\n",
    "print(f\"Content of sample1.txt:\\n{document[0].page_content[:200]}...\\n\")\n",
    "\n",
    "# Load multiple documents from a directory\n",
    "dir_loader = DirectoryLoader(\"sample_documents/\", glob=\"*.txt\", loader_cls=TextLoader)\n",
    "documents = dir_loader.load()\n",
    "\n",
    "print(f\"Number of documents loaded: {len(documents)}\")\n",
    "for i, doc in enumerate(documents):\n",
    "    print(f\"Document {i+1} preview: {doc.page_content[:50]}...\")"
   ]
  },
  {
   "cell_type": "code",
   "execution_count": 45,
   "metadata": {},
   "outputs": [],
   "source": [
    "from langchain.document_loaders import PyPDFLoader\n",
    "\n",
    "# Carica il PDF\n",
    "loader = PyPDFLoader(\"sample_documents/sample-2.pdf\")\n",
    "documents = loader.load()\n"
   ]
  },
  {
   "cell_type": "markdown",
   "metadata": {},
   "source": [
    "## 2. Text Splitting and Chunking"
   ]
  },
  {
   "cell_type": "code",
   "execution_count": 8,
   "metadata": {},
   "outputs": [
    {
     "name": "stdout",
     "output_type": "stream",
     "text": [
      "Number of splits: 13\n",
      "First split preview:\n",
      "**Introduction to Artificial Intelligence**\n",
      "\n",
      "Artificial Intelligence (AI) is an interdisciplinary field within computer science that focuses on developing systems and machines capable of performing ta...\n"
     ]
    }
   ],
   "source": [
    "# Create a text splitter\n",
    "text_splitter = RecursiveCharacterTextSplitter(\n",
    "    chunk_size=1000,\n",
    "    chunk_overlap=200,\n",
    "    length_function=len,\n",
    ")\n",
    "\n",
    "# Split the documents\n",
    "splits = text_splitter.split_documents(documents)\n",
    "\n",
    "print(f\"Number of splits: {len(splits)}\")\n",
    "print(f\"First split preview:\\n{splits[0].page_content[:200]}...\")"
   ]
  },
  {
   "cell_type": "markdown",
   "metadata": {},
   "source": [
    "## 3. Building a Simple Question-Answering System"
   ]
  },
  {
   "cell_type": "code",
   "execution_count": 9,
   "metadata": {},
   "outputs": [
    {
     "name": "stdout",
     "output_type": "stream",
     "text": [
      "Question: What is the main topic of these documents?\n",
      "Answer: The main topic of these documents appears to be Artificial Intelligence (AI), specifically covering its definition, subfields, and applications across various industries.\n",
      "\n",
      "Sources:\n",
      "Document 1: ### 2. **Natural Language Processing (NLP)**\n",
      "Natural Language Processing enables machines to underst...\n",
      "Document 2: ### 5. **Deep Learning**\n",
      "A subset of machine learning, deep learning utilizes neural networks with m...\n",
      "Document 3: **Introduction to Artificial Intelligence**\n",
      "\n",
      "Artificial Intelligence (AI) is an interdisciplinary fi...\n"
     ]
    }
   ],
   "source": [
    "# Create a vector store\n",
    "vectorstore = FAISS.from_documents(splits, embedding_model)\n",
    "\n",
    "# Create a retrieval-based QA chain\n",
    "qa_chain = RetrievalQA.from_chain_type(\n",
    "    llm=llm,\n",
    "    chain_type=\"stuff\",\n",
    "    retriever=vectorstore.as_retriever(search_kwargs={\"k\": 3}),\n",
    "    return_source_documents=True\n",
    ")\n",
    "\n",
    "# Ask a question\n",
    "query = \"What is the main topic of these documents?\"\n",
    "result = qa_chain.invoke({\"query\": query})\n",
    "\n",
    "print(f\"Question: {query}\")\n",
    "print(f\"Answer: {result['result']}\\n\")\n",
    "print(\"Sources:\")\n",
    "for i, doc in enumerate(result['source_documents']):\n",
    "    print(f\"Document {i+1}: {doc.page_content[:100]}...\")"
   ]
  },
  {
   "cell_type": "markdown",
   "metadata": {},
   "source": [
    "## 4. Implementing Semantic Search"
   ]
  },
  {
   "cell_type": "code",
   "execution_count": 51,
   "metadata": {},
   "outputs": [
    {
     "name": "stdout",
     "output_type": "stream",
     "text": [
      "Search query: Discuss the importance of AI\n",
      "\n",
      "Top 3 relevant chunks:\n",
      "Result 1:\n",
      "As AI continues to advance, it has the potential to revolutionize various industries, including healthcare, finance, transportation, and education. However, the development of AI also raises important...\n",
      "\n",
      "Result 2:\n",
      "Introduction to Artificial Intelligence\n",
      "Artificial Intelligence (AI) is a rapidly growing field of computer science that focuses on creating intelligent machines that can perform tasks that typically ...\n",
      "\n",
      "Question: What are some advantages of ai models?\n",
      "Answer: content='Some advantages of AI models include:\\n\\n1. **Improved Efficiency**: AI models can process and analyze large amounts of data quickly and accurately, automating tasks and freeing up human resources for more complex and creative work.\\n\\n2. **Enhanced Decision-Making**: AI models can learn from data and make predictions or decisions based on that data, enabling businesses and organizations to make more informed decisions.\\n\\n3. **Increased Accuracy**: AI models can perform tasks with a high degree of accuracy, reducing the risk of human error and improving overall performance.\\n\\n4. **Personalization**: AI models can be used to personalize products and services, tailoring them to individual needs and preferences.\\n\\n5. **Innovation**: AI models can enable the development of new products and services, such as virtual assistants, self-driving cars, and personalized medicine.\\n\\n6. **Improved Customer Experience**: AI models can be used to improve customer service, enabling businesses to respond quickly and effectively to customer inquiries and concerns.\\n\\n7. **Enhanced Safety**: AI models can be used to improve safety in various industries, such as healthcare, finance, and transportation, by detecting potential risks and preventing accidents.\\n\\n8. **Increased Accessibility**: AI models can be used to improve accessibility, enabling people with disabilities to interact with technology more easily.\\n\\nThese are just a few examples of the many advantages of AI models. As AI continues to evolve, we can expect to see even more innovative applications and benefits.' response_metadata={'token_usage': {'completion_tokens': 288, 'prompt_tokens': 241, 'total_tokens': 529, 'completion_time': 1.152958387, 'prompt_time': 0.068435531, 'queue_time': 0.005608648000000008, 'total_time': 1.221393918}, 'model_name': 'llama-3.1-70b-versatile', 'system_fingerprint': 'fp_b6828be2c9', 'finish_reason': 'stop', 'logprobs': None} id='run-0818cf7b-e3f0-4e82-8eeb-eeac6249aa69-0'\n"
     ]
    }
   ],
   "source": [
    "# Perform a semantic search\n",
    "query = \"Discuss the importance of AI\"\n",
    "search_results = vectorstore.similarity_search(query, k=3)\n",
    "\n",
    "print(f\"Search query: {query}\\n\")\n",
    "print(\"Top 3 relevant chunks:\")\n",
    "for i, doc in enumerate(search_results):\n",
    "    print(f\"Result {i+1}:\\n{doc.page_content[:200]}...\\n\")\n",
    "\n",
    "# Use the search results to answer a question\n",
    "question = \"What are some advantages of ai models?\"\n",
    "context = \"\\n\".join([doc.page_content for doc in search_results])\n",
    "\n",
    "prompt = f\"Based on the following context, answer the question: {question}\\n\\nContext: {context}\\n\\nAnswer:\"\n",
    "answer = llm.invoke(prompt)\n",
    "\n",
    "print(f\"Question: {question}\")\n",
    "print(f\"Answer: {answer}\")"
   ]
  },
  {
   "cell_type": "markdown",
   "metadata": {},
   "source": [
    "## Conclusion\n",
    "\n",
    "In this tutorial, we've explored various aspects of document processing with LangChain, including loading and parsing documents, text splitting, building a simple question-answering system, and implementing semantic search. These techniques form the foundation for more advanced document analysis and information retrieval systems."
   ]
  }
 ],
 "metadata": {
  "kernelspec": {
   "display_name": "Python 3",
   "language": "python",
   "name": "python3"
  },
  "language_info": {
   "codemirror_mode": {
    "name": "ipython",
    "version": 3
   },
   "file_extension": ".py",
   "mimetype": "text/x-python",
   "name": "python",
   "nbconvert_exporter": "python",
   "pygments_lexer": "ipython3",
   "version": "3.12.3"
  }
 },
 "nbformat": 4,
 "nbformat_minor": 4
}
