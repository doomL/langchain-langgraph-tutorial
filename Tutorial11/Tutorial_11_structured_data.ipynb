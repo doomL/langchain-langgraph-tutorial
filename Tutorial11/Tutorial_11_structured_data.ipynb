{
 "cells": [
  {
   "cell_type": "markdown",
   "metadata": {},
   "source": [
    "# Tutorial 11: Working with Structured Data\n",
    "\n",
    "In this tutorial, we'll explore how to work with structured data in LangChain and LangGraph applications. We'll use Pydantic for data modeling, create structured inputs and outputs, and leverage the JSON Toolkit for complex data manipulation."
   ]
  },
  {
   "cell_type": "markdown",
   "metadata": {},
   "source": [
    "## Setup\n",
    "\n",
    "First, let's import the necessary libraries and set up our environment:"
   ]
  },
  {
   "cell_type": "code",
   "execution_count": null,
   "metadata": {},
   "outputs": [],
   "source": [
    "import os\n",
    "from typing import List, Optional\n",
    "from pydantic import BaseModel, Field\n",
    "from langchain.llms import Groq\n",
    "from langchain.prompts import ChatPromptTemplate\n",
    "from langchain.chains import LLMChain\n",
    "from langchain.output_parsers import PydanticOutputParser\n",
    "from langchain.tools import BaseTool, StructuredTool, Tool\n",
    "from langchain.agents import AgentExecutor, Tool\n",
    "from langchain.agents.structured_chat.base import StructuredChatAgent\n",
    "from langgraph.graph import StateGraph, END\n",
    "\n",
    "# Set up the Groq LLM\n",
    "llm = Groq(api_key=os.environ[\"GROQ_API_KEY\"])"
   ]
  },
  {
   "cell_type": "markdown",
   "metadata": {},
   "source": [
    "## 1. Introduction to Pydantic for data modeling\n",
    "\n",
    "Pydantic is a powerful library for data validation and settings management using Python type annotations. Let's start by creating a simple Pydantic model:"
   ]
  },
  {
   "cell_type": "code",
   "execution_count": null,
   "metadata": {},
   "outputs": [],
   "source": [
    "class Person(BaseModel):\n",
    "    name: str\n",
    "    age: int\n",
    "    email: Optional[str] = None\n",
    "\n",
    "# Create a Person instance\n",
    "alice = Person(name=\"Alice\", age=30, email=\"alice@example.com\")\n",
    "print(alice)\n",
    "\n",
    "# Pydantic will raise a validation error if the data doesn't match the model\n",
    "try:\n",
    "    invalid_person = Person(name=\"Bob\", age=\"thirty\")\n",
    "except ValueError as e:\n",
    "    print(f\"Validation error: {e}\")"
   ]
  },
  {
   "cell_type": "markdown",
   "metadata": {},
   "source": [
    "## 2. Creating structured inputs and outputs with Pydantic\n",
    "\n",
    "Now, let's use Pydantic with LangChain to create structured outputs from our LLM:"
   ]
  },
  {
   "cell_type": "code",
   "execution_count": null,
   "metadata": {},
   "outputs": [],
   "source": [
    "class MovieReview(BaseModel):\n",
    "    title: str = Field(description=\"The title of the movie\")\n",
    "    year: int = Field(description=\"The year the movie was released\")\n",
    "    rating: float = Field(description=\"The rating of the movie on a scale of 0 to 10\")\n",
    "    summary: str = Field(description=\"A brief summary of the movie's plot\")\n",
    "\n",
    "movie_review_parser = PydanticOutputParser(pydantic_object=MovieReview)\n",
    "\n",
    "movie_review_prompt = ChatPromptTemplate.from_template(\n",
    "    \"\"\"Provide a brief review for the movie {movie_title}. \n",
    "    {format_instructions}\n",
    "    \"\"\"\n",
    ")\n",
    "\n",
    "movie_review_chain = LLMChain(\n",
    "    llm=llm,\n",
    "    prompt=movie_review_prompt,\n",
    "    output_parser=movie_review_parser\n",
    ")\n",
    "\n",
    "result = movie_review_chain.run(\n",
    "    movie_title=\"The Matrix\",\n",
    "    format_instructions=movie_review_parser.get_format_instructions()\n",
    ")\n",
    "\n",
    "print(result)"
   ]
  },
  {
   "cell_type": "markdown",
   "metadata": {},
   "source": [
    "## 3. Using the JSON Toolkit for complex data manipulation\n",
    "\n",
    "LangChain provides a JSON Toolkit for working with complex JSON data. Let's create a simple example using this toolkit:"
   ]
  },
  {
   "cell_type": "code",
   "execution_count": null,
   "metadata": {},
   "outputs": [],
   "source": [
    "import json\n",
    "from langchain.tools.json.tool import JsonSpec\n",
    "from langchain.agents import create_json_agent\n",
    "from langchain.agents.agent_toolkits import JsonToolkit\n",
    "\n",
    "# Sample JSON data\n",
    "json_data = {\n",
    "    \"movies\": [\n",
    "        {\"title\": \"Inception\", \"director\": \"Christopher Nolan\", \"year\": 2010},\n",
    "        {\"title\": \"The Shawshank Redemption\", \"director\": \"Frank Darabont\", \"year\": 1994},\n",
    "        {\"title\": \"The Godfather\", \"director\": \"Francis Ford Coppola\", \"year\": 1972}\n",
    "    ]\n",
    "}\n",
    "\n",
    "json_spec = JsonSpec(dict_=json_data, max_value_length=4000)\n",
    "json_toolkit = JsonToolkit(spec=json_spec)\n",
    "\n",
    "json_agent_executor = create_json_agent(\n",
    "    llm=llm,\n",
    "    toolkit=json_toolkit,\n",
    "    verbose=True\n",
    ")\n",
    "\n",
    "result = json_agent_executor.run(\"What is the oldest movie in the list?\")\n",
    "print(result)"
   ]
  },
  {
   "cell_type": "markdown",
   "metadata": {},
   "source": [
    "## 4. Integrating structured data with LangChain and LangGraph\n",
    "\n",
    "Now, let's create a more complex example that combines structured data with LangChain and LangGraph. We'll build a movie recommendation system:"
   ]
  },
  {
   "cell_type": "code",
   "execution_count": null,
   "metadata": {},
   "outputs": [],
   "source": [
    "class Movie(BaseModel):\n",
    "    title: str\n",
    "    genre: str\n",
    "    year: int\n",
    "    director: str\n",
    "\n",
    "class MovieRecommendation(BaseModel):\n",
    "    recommended_movie: Movie\n",
    "    reason: str\n",
    "\n",
    "class MovieDatabase:\n",
    "    def __init__(self):\n",
    "        self.movies = [\n",
    "            Movie(title=\"The Shawshank Redemption\", genre=\"Drama\", year=1994, director=\"Frank Darabont\"),\n",
    "            Movie(title=\"The Godfather\", genre=\"Crime\", year=1972, director=\"Francis Ford Coppola\"),\n",
    "            Movie(title=\"Pulp Fiction\", genre=\"Crime\", year=1994, director=\"Quentin Tarantino\"),\n",
    "            Movie(title=\"The Dark Knight\", genre=\"Action\", year=2008, director=\"Christopher Nolan\"),\n",
    "            Movie(title=\"Forrest Gump\", genre=\"Drama\", year=1994, director=\"Robert Zemeckis\")\n",
    "        ]\n",
    "\n",
    "    def get_movies(self):\n",
    "        return [movie.dict() for movie in self.movies]\n",
    "\n",
    "movie_db = MovieDatabase()\n",
    "\n",
    "def get_movie_recommendation(preferences: str) -> MovieRecommendation:\n",
    "    movies = movie_db.get_movies()\n",
    "    prompt = ChatPromptTemplate.from_template(\n",
    "        \"\"\"Based on the user's preferences: '{preferences}', recommend a movie from the following list:\n",
    "        {movies}\n",
    "        \n",
    "        Provide your recommendation in the following format:\n",
    "        {format_instructions}\n",
    "        \"\"\"\n",
    "    )\n",
    "    \n",
    "    parser = PydanticOutputParser(pydantic_object=MovieRecommendation)\n",
    "    \n",
    "    chain = LLMChain(\n",
    "        llm=llm,\n",
    "        prompt=prompt,\n",
    "        output_parser=parser\n",
    "    )\n",
    "    \n",
    "    result = chain.run(\n",
    "        preferences=preferences,\n",
    "        movies=json.dumps(movies, indent=2),\n",
    "        format_instructions=parser.get_format_instructions()\n",
    "    )\n",
    "    \n",
    "    return result\n",
    "\n",
    "recommendation_tool = StructuredTool.from_function(\n",
    "    func=get_movie_recommendation,\n",
    "    name=\"MovieRecommendation\",\n",
    "    description=\"Recommends a movie based on user preferences\"\n",
    ")\n",
    "\n",
    "tools = [recommendation_tool]\n",
    "\n",
    "agent = StructuredChatAgent.from_llm_and_tools(llm=llm, tools=tools)\n",
    "agent_executor = AgentExecutor.from_agent_and_tools(\n",
    "    agent=agent,\n",
    "    tools=tools,\n",
    "    verbose=True\n",
    ")\n",
    "\n",
    "result = agent_executor.run(\"I'm in the mood for a classic crime movie. What do you recommend?\")\n",
    "print(result)"
   ]
  },
  {
   "cell_type": "markdown",
   "metadata": {},
   "source": [
    "## Conclusion\n",
    "\n",
    "In this tutorial, we've explored how to work with structured data in LangChain and LangGraph applications. We've covered:\n",
    "\n",
    "1. Using Pydantic for data modeling and validation\n",
    "2. Creating structured inputs and outputs with Pydantic and LangChain\n",
    "3. Using the JSON Toolkit for complex data manipulation\n",
    "4. Integrating structured data with LangChain and LangGraph in a movie recommendation system\n",
    "\n",
    "These techniques allow you to create more robust and type-safe applications, making it easier to work with complex data structures in your AI-powered systems.\n",
    "\n",
    "## Next Steps\n",
    "\n",
    "To further improve your skills in working with structured data in LangChain and LangGraph applications, consider the following:\n",
    "\n",
    "1. Experiment with more complex Pydantic models and nested structures\n",
    "2. Explore other LangChain tools and agents that work with structured data\n",
    "3. Implement error handling and fallback strategies for parsing failures\n",
    "4. Integrate external APIs or databases to work with real-world data\n",
    "5. Develop a full-fledged application that combines multiple structured data techniques"
   ]
  }
 ],
 "metadata": {
  "language_info": {
   "name": "python"
  }
 },
 "nbformat": 4,
 "nbformat_minor": 2
}