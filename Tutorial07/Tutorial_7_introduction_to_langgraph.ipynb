{
 "cells": [
  {
   "cell_type": "markdown",
   "metadata": {},
   "source": [
    "# Tutorial 7: Introduction to LangGraph\n",
    "\n",
    "In this tutorial, we'll explore LangGraph, a powerful library for building complex, stateful workflows with language models."
   ]
  },
  {
   "cell_type": "markdown",
   "metadata": {},
   "source": [
    "## 1. What is LangGraph and how does it differ from LangChain?\n",
    "\n",
    "LangGraph is an extension of LangChain that focuses on building stateful, multi-step workflows. While LangChain provides building blocks for working with language models, LangGraph allows you to create more complex, graph-based workflows with explicit state management.\n",
    "\n",
    "Key differences:\n",
    "- LangGraph introduces the concept of a 'graph' to represent workflows\n",
    "- It provides better support for stateful applications\n",
    "- LangGraph allows for more complex branching and conditional logic\n",
    "- It's designed for building multi-agent systems and complex decision-making processes"
   ]
  },
  {
   "cell_type": "markdown",
   "metadata": {},
   "source": [
    "## 2. Basic concepts: Nodes, Edges, and Graphs\n",
    "\n",
    "In LangGraph:\n",
    "- **Nodes** represent individual steps or actions in a workflow\n",
    "- **Edges** define the connections and flow between nodes\n",
    "- **Graphs** combine nodes and edges to create a complete workflow\n",
    "\n",
    "These concepts allow you to create more structured and complex applications compared to linear chains in LangChain."
   ]
  },
  {
   "cell_type": "markdown",
   "metadata": {},
   "source": [
    "## 3. Setting up LangGraph\n",
    "\n",
    "Let's start by importing the necessary modules and setting up our environment:"
   ]
  },
  {
   "cell_type": "code",
   "execution_count": 2,
   "metadata": {},
   "outputs": [],
   "source": [
    "import os\n",
    "from typing import Dict, TypedDict,List\n",
    "from langchain_groq import ChatGroq\n",
    "from langchain.prompts import ChatPromptTemplate\n",
    "from langchain.schema import BaseMessage\n",
    "from langgraph.graph import StateGraph, END\n",
    "\n",
    "# Set up the Groq LLM\n",
    "llm = ChatGroq(\n",
    "        model_name=\"llama-3.1-70b-versatile\",\n",
    "        temperature=0.1,\n",
    "        model_kwargs={\"top_p\": 0.5, \"seed\": 1337}\n",
    "    )\n",
    "# Define our state structure\n",
    "class State(TypedDict):\n",
    "    messages: List[BaseMessage]\n",
    "    next_step: str"
   ]
  },
  {
   "cell_type": "markdown",
   "metadata": {},
   "source": [
    "## 4. Creating your first LangGraph flow\n",
    "\n",
    "Let's create a simple conversational agent using LangGraph. This agent will greet the user, ask for their name, and then provide a personalized response."
   ]
  },
  {
   "cell_type": "code",
   "execution_count": 3,
   "metadata": {},
   "outputs": [],
   "source": [
    "# Define our graph\n",
    "workflow = StateGraph(State)\n",
    "\n",
    "# Define our nodes\n",
    "def greet(state: State) -> State:\n",
    "    state[\"messages\"].append({\"role\": \"assistant\", \"content\": \"Hello! What's your name?\"})\n",
    "    state[\"next_step\"] = \"get_name\"\n",
    "    return state\n",
    "\n",
    "def get_name(state: State) -> State:\n",
    "    name = state[\"messages\"][-1][\"content\"]\n",
    "    state[\"messages\"].append({\"role\": \"assistant\", \"content\": f\"Nice to meet you, {name}! How can I assist you today?\"})\n",
    "    state[\"next_step\"] = \"end\"\n",
    "    return state\n",
    "\n",
    "# Add nodes to the graph\n",
    "workflow.add_node(\"greet\", greet)\n",
    "workflow.add_node(\"get_name\", get_name)\n",
    "\n",
    "# Define edges\n",
    "workflow.set_entry_point(\"greet\")\n",
    "workflow.add_edge(\"greet\", \"get_name\")\n",
    "workflow.add_edge(\"get_name\", END)\n",
    "\n",
    "# Compile the graph\n",
    "app = workflow.compile()"
   ]
  },
  {
   "cell_type": "code",
   "execution_count": 4,
   "metadata": {},
   "outputs": [
    {
     "data": {
      "image/jpeg": "[encoded data removed]",
      "text/plain": [
       "<IPython.core.display.Image object>"
      ]
     },
     "metadata": {},
     "output_type": "display_data"
    }
   ],
   "source": [
    "from IPython.display import Image, display\n",
    "\n",
    "display(Image(app.get_graph().draw_mermaid_png()))"
   ]
  },
  {
   "cell_type": "markdown",
   "metadata": {},
   "source": [
    "Now that we have created our simple LangGraph flow, let's test it:"
   ]
  },
  {
   "cell_type": "code",
   "execution_count": 5,
   "metadata": {},
   "outputs": [
    {
     "name": "stdout",
     "output_type": "stream",
     "text": [
      "Assistant: Hello! What's your name?\n"
     ]
    },
    {
     "name": "stdout",
     "output_type": "stream",
     "text": [
      "Assistant: Hello! What's your name?\n",
      "Human: ciaos\n",
      "Assistant: Nice to meet you, ciaos! How can I assist you today?\n",
      "Conversation ended.\n"
     ]
    }
   ],
   "source": [
    "# Initialize the state\n",
    "initial_state = {\"messages\": [],\"next_step\":\"\"}\n",
    "# Run the graph\n",
    "for event in app.stream(initial_state):\n",
    "    for output in event.values():\n",
    "        if \"messages\" in output:\n",
    "            for message in output[\"messages\"]:\n",
    "                if message[\"role\"] == \"assistant\":\n",
    "                    print(f\"Assistant: {message['content']}\")\n",
    "                elif message[\"role\"] == \"human\":\n",
    "                    print(f\"Human: {message['content']}\")\n",
    "    \n",
    "    # Check if 'next_step' exists\n",
    "    if \"next_step\" in output and output[\"next_step\"] == \"get_name\":\n",
    "        user_input = input(\"Your response: \")\n",
    "        output[\"messages\"].append({\"role\": \"human\", \"content\": user_input})\n",
    "\n",
    "print(\"Conversation ended.\")\n"
   ]
  },
  {
   "cell_type": "markdown",
   "metadata": {},
   "source": [
    "## Conclusion\n",
    "\n",
    "In this tutorial, we've introduced LangGraph and created a simple conversational flow. We've covered the basic concepts of nodes, edges, and graphs, and demonstrated how to set up a LangGraph workflow.\n",
    "\n",
    "This is just the beginning of what you can do with LangGraph. In the next tutorial, we'll explore more complex flows, including branching logic and integration with LangChain components."
   ]
  }
 ],
 "metadata": {
  "kernelspec": {
   "display_name": "base",
   "language": "python",
   "name": "python3"
  },
  "language_info": {
   "codemirror_mode": {
    "name": "ipython",
    "version": 3
   },
   "file_extension": ".py",
   "mimetype": "text/x-python",
   "name": "python",
   "nbconvert_exporter": "python",
   "pygments_lexer": "ipython3",
   "version": "3.12.3"
  }
 },
 "nbformat": 4,
 "nbformat_minor": 2
}
